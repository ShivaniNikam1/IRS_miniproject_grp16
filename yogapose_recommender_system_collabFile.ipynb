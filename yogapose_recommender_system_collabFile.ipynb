{
  "metadata": {
    "kernelspec": {
      "language": "python",
      "display_name": "Python 3",
      "name": "python3"
    },
    "language_info": {
      "pygments_lexer": "ipython3",
      "nbconvert_exporter": "python",
      "version": "3.6.4",
      "file_extension": ".py",
      "codemirror_mode": {
        "name": "ipython",
        "version": 3
      },
      "name": "python",
      "mimetype": "text/x-python"
    },
    "colab": {
      "provenance": []
    }
  },
  "nbformat_minor": 0,
  "nbformat": 4,
  "cells": [
    {
      "cell_type": "code",
      "source": [
        "#Import the libraries\n",
        "import numpy as np\n",
        "import pandas as pd\n",
        "import difflib\n",
        "from sklearn.feature_extraction.text import TfidfVectorizer\n",
        "from sklearn.metrics.pairwise import cosine_similarity\n",
        "from sklearn.feature_extraction.text import CountVectorizer\n",
        "import pickle"
      ],
      "metadata": {
        "_uuid": "8f2839f25d086af736a60e9eeb907d3b93b6e0e5",
        "_cell_guid": "b1076dfc-b9ad-4769-8c92-a6c4dae69d19",
        "execution": {
          "iopub.status.busy": "2023-02-28T19:47:29.586227Z",
          "iopub.execute_input": "2023-02-28T19:47:29.58751Z",
          "iopub.status.idle": "2023-02-28T19:47:30.301847Z",
          "shell.execute_reply.started": "2023-02-28T19:47:29.587464Z",
          "shell.execute_reply": "2023-02-28T19:47:30.300747Z"
        },
        "trusted": true,
        "id": "YePilEdTiQg3"
      },
      "execution_count": null,
      "outputs": []
    },
    {
      "cell_type": "code",
      "source": [
        "#Load the data\n",
        "data = pd.read_csv('/content/yoga - Sheet1 (5).csv')\n",
        "data.head(20)"
      ],
      "metadata": {
        "execution": {
          "iopub.status.busy": "2023-02-28T21:18:09.157628Z",
          "iopub.execute_input": "2023-02-28T21:18:09.158037Z",
          "iopub.status.idle": "2023-02-28T21:18:09.193668Z",
          "shell.execute_reply.started": "2023-02-28T21:18:09.158002Z",
          "shell.execute_reply": "2023-02-28T21:18:09.192108Z"
        },
        "trusted": true,
        "id": "3WcvbVlWiQg3",
        "colab": {
          "base_uri": "https://localhost:8080/",
          "height": 1000
        },
        "outputId": "de9c396d-eddd-49c9-c0b0-9d9c01621f44"
      },
      "execution_count": null,
      "outputs": [
        {
          "output_type": "execute_result",
          "data": {
            "text/plain": [
              "    AID                        AName  \\\n",
              "0     1              Padanguli Naman   \n",
              "1    10           Pooma Titali Asana   \n",
              "2    12             Manibandha Naman   \n",
              "3    13            Manibandha Chakra   \n",
              "4    14                 Kehuni Naman   \n",
              "5    16               Skandha Chakra   \n",
              "6    18               Padotthanasana   \n",
              "7    19               Padachakrasana   \n",
              "8    20          Pada Sanchalanasana   \n",
              "9    21         Supta Pawanmuktasana   \n",
              "10   23      Supta Udarakarshanasana   \n",
              "11   24      Shava Udarakarshanasana   \n",
              "12   25                    Naukasana   \n",
              "13   28           Chakki Chalanasana   \n",
              "14   29         Nauka Sanchalanasana   \n",
              "15   30         Kashtha Takshanasana   \n",
              "16   31                Namaskarasana   \n",
              "17   34            Udarakarshanasana   \n",
              "18   42  Nearing And Distant Viewing   \n",
              "19   43      Shavasana (corpse pose)   \n",
              "\n",
              "                                          Description  \\\n",
              "0   Sit in the base position with the legs outstre...   \n",
              "1   Sit in the base position.\\nBend the knees and ...   \n",
              "2   Remain in the base position or a cross-legged ...   \n",
              "3   Remain in the base position or a comfortable c...   \n",
              "4   Stage I : Remain in the base position or a cro...   \n",
              "5   Stage I: Remain in the base position or a cros...   \n",
              "6   Stage I : Lie in the starting position with th...   \n",
              "7   Stage I : Lie in the starting position and rel...   \n",
              "8   Stage I : Lie in the starting position and rel...   \n",
              "9   Stage I: Lie in the starting position and rela...   \n",
              "10  Lie in the starting position and relax. Bend t...   \n",
              "11  Lie in the starting position with the legs and...   \n",
              "12  Lie in the starting position. Keep the eyes op...   \n",
              "13  Sit with the legs stretched out in front of th...   \n",
              "14  Sit with both legs straight in front of the bo...   \n",
              "15  Squat with the feet flat on the floor about 45...   \n",
              "16  Squat with the feet flat on the floor about 60...   \n",
              "17  Squat with the feet apart and the hands on the...   \n",
              "18  Stand or sit at an open window, preferably wit...   \n",
              "19  Lie flat on the back with the arms about 15 em...   \n",
              "\n",
              "                                             Benefits  \\\n",
              "0   This group of asanas is concerned with looseni...   \n",
              "1   Both stages prepare the legs for mastery of\\np...   \n",
              "2   This group of asanas is concerned with looseni...   \n",
              "3   The hand and wrist asanas are beneficial for t...   \n",
              "4   This group of asanas is concerned with looseni...   \n",
              "5   The shoulder asanas relieve the strain of driv...   \n",
              "6   This asana strengthens the abdominal muscles a...   \n",
              "7   Good for the hip joints, obesity, toning of th...   \n",
              "8   Good for hip and knee joints. Strengthens abdo...   \n",
              "9   Supta pawanmuktasana strengthens the lower bac...   \n",
              "10  This asana gives an excellent stretch to the a...   \n",
              "11  Tightness and tiredness are relieved, especial...   \n",
              "12  This asana stimulates the muscular, digestive,...   \n",
              "13  This asana is excellent for toning the nerves ...   \n",
              "14  This asana has a positive effect on the pelvis...   \n",
              "15  This asana loosens up the pelvic girdle and to...   \n",
              "16  This asana has a profound effect on the nerves...   \n",
              "17  This pose is very useful for abdominal ailment...   \n",
              "18  This exercise improves the accommodating and f...   \n",
              "19  This asana relaxes the whole psycho-physiologi...   \n",
              "\n",
              "                                    Contraindications  \\\n",
              "0                                                 NaN   \n",
              "1   People with sciatica and sacral conditions\\nsh...   \n",
              "2                                                 NaN   \n",
              "3                                                 NaN   \n",
              "4                                                 NaN   \n",
              "5                                                 NaN   \n",
              "6   Not to be performed by persons suffer­ing from...   \n",
              "7   Not to be performed by persons suffering from ...   \n",
              "8   Not to be performed by persons suffering from ...   \n",
              "9   Not to be performed by persons suffering from ...   \n",
              "10                                                NaN   \n",
              "11  This asana can realign the hip joint. It shoul...   \n",
              "12                                                NaN   \n",
              "13                                                NaN   \n",
              "14                                                NaN   \n",
              "15     Not for people with knee problems or sciatica.   \n",
              "16     Not for people with knee problems or sciatica.   \n",
              "17    Not fo r people with knee problems or sciatica.   \n",
              "18  Those who suffer from major eye diseases or di...   \n",
              "19                                                NaN   \n",
              "\n",
              "                                            Breathing  \\\n",
              "0   Inhale as the toes move backward.\\nExhale as t...   \n",
              "1        Normal breathing, unrelated to the practice.   \n",
              "2   Inhale with the backward movement.\\nExhale wit...   \n",
              "3                                                 NaN   \n",
              "4   Inhale while straightening the anns.\\nExhale w...   \n",
              "5   Inhale on the upward stroke.\\nExhale on the do...   \n",
              "6   Inhale while raising the leg(s). Hold the post...   \n",
              "7   Inhale while moving the leg(s) upwards. Exhale...   \n",
              "8   Inhale while straightening the leg. Exhale whi...   \n",
              "9                                                 NaN   \n",
              "10  Exhale while lowering the legs to the sides. H...   \n",
              "11  Inhale in the starting position. Exhale while ...   \n",
              "12  Inhale before raising the body. Retain the bre...   \n",
              "13  Inhale while leaning back. Exhale while moving...   \n",
              "14  Inhale while leaning back. Exhale while bendin...   \n",
              "15  Inhale while raising the arms. Exhale while lo...   \n",
              "16  Inhale while bringing the palms together in fr...   \n",
              "17                                                NaN   \n",
              "18  Inhale during near viewing. Exhale during dist...   \n",
              "19  Natural and relaxed, or begin to count the bre...   \n",
              "\n",
              "                                            awareness  You tube Vdo link  \\\n",
              "0   On the stretching produced by the movement and...                NaN   \n",
              "1          On the hip joint, movement and relaxation.                NaN   \n",
              "2   On the movement in the wrist joint and stretch...                NaN   \n",
              "3                                                 NaN                NaN   \n",
              "4   On the movement of the elbow joint and arm\\nmu...                NaN   \n",
              "5   On the stretching sensation around the shoulde...                NaN   \n",
              "6   On the stretch in the legs and synchronizing t...                NaN   \n",
              "7   On the rotation of the leg(s), the effects of ...                NaN   \n",
              "8   On the smoothness of the movement and proper c...                NaN   \n",
              "9   On the movement, the abdominal pressure, and t...                NaN   \n",
              "10  On the twisting stretch of the paraspinal and ...                NaN   \n",
              "11  On the relaxation of the back, arms and should...                NaN   \n",
              "12  On the movement, mental counting and tensing o...                NaN   \n",
              "13  On the movement and sensations in the lower ba...                NaN   \n",
              "14  On the movement and sensations in the lower ba...                NaN   \n",
              "15  On the movement and stretch of the shoulder an...                NaN   \n",
              "16  On the stretch on the groin and compression at...                NaN   \n",
              "17  On the movement and the alternate stretch and ...                NaN   \n",
              "18                                                NaN                NaN   \n",
              "19  Physical - first on relaxing the whole body, t...                NaN   \n",
              "\n",
              "                                                Photo  References  \\\n",
              "0   https://cdn.doyou.com/wp/2015/05/Susan-Yoga-Po...         NaN   \n",
              "1   https://encrypted-tbn0.gstatic.com/images?q=tb...         NaN   \n",
              "2   https://selfhealingonline.com/wp-content/uploa...         NaN   \n",
              "3   https://do-yoga.s3.amazonaws.com/224d26b2-ed0b...         NaN   \n",
              "4   https://encrypted-tbn0.gstatic.com/images?q=tb...         NaN   \n",
              "5   https://encrypted-tbn0.gstatic.com/images?q=tb...         NaN   \n",
              "6   https://encrypted-tbn0.gstatic.com/images?q=tb...         NaN   \n",
              "7   https://encrypted-tbn0.gstatic.com/images?q=tb...         NaN   \n",
              "8   https://encrypted-tbn0.gstatic.com/images?q=tb...         NaN   \n",
              "9   https://encrypted-tbn0.gstatic.com/images?q=tb...         NaN   \n",
              "10  https://encrypted-tbn0.gstatic.com/images?q=tb...         NaN   \n",
              "11  https://encrypted-tbn0.gstatic.com/images?q=tb...         NaN   \n",
              "12  https://encrypted-tbn0.gstatic.com/images?q=tb...         NaN   \n",
              "13  https://encrypted-tbn0.gstatic.com/images?q=tb...         NaN   \n",
              "14  https://encrypted-tbn0.gstatic.com/images?q=tb...         NaN   \n",
              "15  https://encrypted-tbn0.gstatic.com/images?q=tb...         NaN   \n",
              "16  https://encrypted-tbn0.gstatic.com/images?q=tb...         NaN   \n",
              "17  https://encrypted-tbn0.gstatic.com/images?q=tb...         NaN   \n",
              "18  https://encrypted-tbn0.gstatic.com/images?q=tb...         NaN   \n",
              "19  https://encrypted-tbn0.gstatic.com/images?q=tb...         NaN   \n",
              "\n",
              "                                  Pain  \\\n",
              "0     Joint stiffness and muscle aches   \n",
              "1                  Muscle Relaxation\\r   \n",
              "2   Pain Alleviation\\r\\n\\r\\n\\r\\n\\r\\n\\r   \n",
              "3                    Tension Reduction   \n",
              "4                    Joint Flexibility   \n",
              "5                     Strain Reduction   \n",
              "6                        Core Strength   \n",
              "7                    Hip Flexibility\\r   \n",
              "8                          Core Toning   \n",
              "9                    Digestive Massage   \n",
              "10                      Hip Relaxation   \n",
              "11                       Spinal Relief   \n",
              "12                Muscular Stimulation   \n",
              "13                       Pelvic Toning   \n",
              "14                  Abdominal Wellness   \n",
              "15                   Upper Back Relief   \n",
              "16                     Shoulder Relief   \n",
              "17                    Digestive Relief   \n",
              "18                Muscle Fatigue\\r\\n\\r   \n",
              "19                     Physical Strain   \n",
              "\n",
              "                                           Variations      Level  \n",
              "0                                                 NaN  Beginners  \n",
              "1                                                 NaN  Beginners  \n",
              "2                                                 NaN  Beginners  \n",
              "3                                                 NaN  Beginners  \n",
              "4                                                 NaN  Beginners  \n",
              "5                                                 NaN  Beginners  \n",
              "6                                                 NaN  Beginners  \n",
              "7                                                 NaN  Beginners  \n",
              "8                                                 NaN  Beginners  \n",
              "9                                                 NaN  Beginners  \n",
              "10  Bend the knees and bring the thighs up to the ...  Beginners  \n",
              "11                                                NaN  Beginners  \n",
              "12  Repeat the same process as above, but clench t...  Beginners  \n",
              "13                                                NaN  Beginners  \n",
              "14                                                NaN  Beginners  \n",
              "15                                                NaN  Beginners  \n",
              "16                                                NaN  Beginners  \n",
              "17                                                NaN  Beginners  \n",
              "18                                                NaN  Beginners  \n",
              "19                                                NaN  Beginners  "
            ],
            "text/html": [
              "\n",
              "  <div id=\"df-498233cc-95a2-4567-8afd-869d2ffb28f2\" class=\"colab-df-container\">\n",
              "    <div>\n",
              "<style scoped>\n",
              "    .dataframe tbody tr th:only-of-type {\n",
              "        vertical-align: middle;\n",
              "    }\n",
              "\n",
              "    .dataframe tbody tr th {\n",
              "        vertical-align: top;\n",
              "    }\n",
              "\n",
              "    .dataframe thead th {\n",
              "        text-align: right;\n",
              "    }\n",
              "</style>\n",
              "<table border=\"1\" class=\"dataframe\">\n",
              "  <thead>\n",
              "    <tr style=\"text-align: right;\">\n",
              "      <th></th>\n",
              "      <th>AID</th>\n",
              "      <th>AName</th>\n",
              "      <th>Description</th>\n",
              "      <th>Benefits</th>\n",
              "      <th>Contraindications</th>\n",
              "      <th>Breathing</th>\n",
              "      <th>awareness</th>\n",
              "      <th>You tube Vdo link</th>\n",
              "      <th>Photo</th>\n",
              "      <th>References</th>\n",
              "      <th>Pain</th>\n",
              "      <th>Variations</th>\n",
              "      <th>Level</th>\n",
              "    </tr>\n",
              "  </thead>\n",
              "  <tbody>\n",
              "    <tr>\n",
              "      <th>0</th>\n",
              "      <td>1</td>\n",
              "      <td>Padanguli Naman</td>\n",
              "      <td>Sit in the base position with the legs outstre...</td>\n",
              "      <td>This group of asanas is concerned with looseni...</td>\n",
              "      <td>NaN</td>\n",
              "      <td>Inhale as the toes move backward.\\nExhale as t...</td>\n",
              "      <td>On the stretching produced by the movement and...</td>\n",
              "      <td>NaN</td>\n",
              "      <td>https://cdn.doyou.com/wp/2015/05/Susan-Yoga-Po...</td>\n",
              "      <td>NaN</td>\n",
              "      <td>Joint stiffness and muscle aches</td>\n",
              "      <td>NaN</td>\n",
              "      <td>Beginners</td>\n",
              "    </tr>\n",
              "    <tr>\n",
              "      <th>1</th>\n",
              "      <td>10</td>\n",
              "      <td>Pooma Titali Asana</td>\n",
              "      <td>Sit in the base position.\\nBend the knees and ...</td>\n",
              "      <td>Both stages prepare the legs for mastery of\\np...</td>\n",
              "      <td>People with sciatica and sacral conditions\\nsh...</td>\n",
              "      <td>Normal breathing, unrelated to the practice.</td>\n",
              "      <td>On the hip joint, movement and relaxation.</td>\n",
              "      <td>NaN</td>\n",
              "      <td>https://encrypted-tbn0.gstatic.com/images?q=tb...</td>\n",
              "      <td>NaN</td>\n",
              "      <td>Muscle Relaxation\\r</td>\n",
              "      <td>NaN</td>\n",
              "      <td>Beginners</td>\n",
              "    </tr>\n",
              "    <tr>\n",
              "      <th>2</th>\n",
              "      <td>12</td>\n",
              "      <td>Manibandha Naman</td>\n",
              "      <td>Remain in the base position or a cross-legged ...</td>\n",
              "      <td>This group of asanas is concerned with looseni...</td>\n",
              "      <td>NaN</td>\n",
              "      <td>Inhale with the backward movement.\\nExhale wit...</td>\n",
              "      <td>On the movement in the wrist joint and stretch...</td>\n",
              "      <td>NaN</td>\n",
              "      <td>https://selfhealingonline.com/wp-content/uploa...</td>\n",
              "      <td>NaN</td>\n",
              "      <td>Pain Alleviation\\r\\n\\r\\n\\r\\n\\r\\n\\r</td>\n",
              "      <td>NaN</td>\n",
              "      <td>Beginners</td>\n",
              "    </tr>\n",
              "    <tr>\n",
              "      <th>3</th>\n",
              "      <td>13</td>\n",
              "      <td>Manibandha Chakra</td>\n",
              "      <td>Remain in the base position or a comfortable c...</td>\n",
              "      <td>The hand and wrist asanas are beneficial for t...</td>\n",
              "      <td>NaN</td>\n",
              "      <td>NaN</td>\n",
              "      <td>NaN</td>\n",
              "      <td>NaN</td>\n",
              "      <td>https://do-yoga.s3.amazonaws.com/224d26b2-ed0b...</td>\n",
              "      <td>NaN</td>\n",
              "      <td>Tension Reduction</td>\n",
              "      <td>NaN</td>\n",
              "      <td>Beginners</td>\n",
              "    </tr>\n",
              "    <tr>\n",
              "      <th>4</th>\n",
              "      <td>14</td>\n",
              "      <td>Kehuni Naman</td>\n",
              "      <td>Stage I : Remain in the base position or a cro...</td>\n",
              "      <td>This group of asanas is concerned with looseni...</td>\n",
              "      <td>NaN</td>\n",
              "      <td>Inhale while straightening the anns.\\nExhale w...</td>\n",
              "      <td>On the movement of the elbow joint and arm\\nmu...</td>\n",
              "      <td>NaN</td>\n",
              "      <td>https://encrypted-tbn0.gstatic.com/images?q=tb...</td>\n",
              "      <td>NaN</td>\n",
              "      <td>Joint Flexibility</td>\n",
              "      <td>NaN</td>\n",
              "      <td>Beginners</td>\n",
              "    </tr>\n",
              "    <tr>\n",
              "      <th>5</th>\n",
              "      <td>16</td>\n",
              "      <td>Skandha Chakra</td>\n",
              "      <td>Stage I: Remain in the base position or a cros...</td>\n",
              "      <td>The shoulder asanas relieve the strain of driv...</td>\n",
              "      <td>NaN</td>\n",
              "      <td>Inhale on the upward stroke.\\nExhale on the do...</td>\n",
              "      <td>On the stretching sensation around the shoulde...</td>\n",
              "      <td>NaN</td>\n",
              "      <td>https://encrypted-tbn0.gstatic.com/images?q=tb...</td>\n",
              "      <td>NaN</td>\n",
              "      <td>Strain Reduction</td>\n",
              "      <td>NaN</td>\n",
              "      <td>Beginners</td>\n",
              "    </tr>\n",
              "    <tr>\n",
              "      <th>6</th>\n",
              "      <td>18</td>\n",
              "      <td>Padotthanasana</td>\n",
              "      <td>Stage I : Lie in the starting position with th...</td>\n",
              "      <td>This asana strengthens the abdominal muscles a...</td>\n",
              "      <td>Not to be performed by persons suffer­ing from...</td>\n",
              "      <td>Inhale while raising the leg(s). Hold the post...</td>\n",
              "      <td>On the stretch in the legs and synchronizing t...</td>\n",
              "      <td>NaN</td>\n",
              "      <td>https://encrypted-tbn0.gstatic.com/images?q=tb...</td>\n",
              "      <td>NaN</td>\n",
              "      <td>Core Strength</td>\n",
              "      <td>NaN</td>\n",
              "      <td>Beginners</td>\n",
              "    </tr>\n",
              "    <tr>\n",
              "      <th>7</th>\n",
              "      <td>19</td>\n",
              "      <td>Padachakrasana</td>\n",
              "      <td>Stage I : Lie in the starting position and rel...</td>\n",
              "      <td>Good for the hip joints, obesity, toning of th...</td>\n",
              "      <td>Not to be performed by persons suffering from ...</td>\n",
              "      <td>Inhale while moving the leg(s) upwards. Exhale...</td>\n",
              "      <td>On the rotation of the leg(s), the effects of ...</td>\n",
              "      <td>NaN</td>\n",
              "      <td>https://encrypted-tbn0.gstatic.com/images?q=tb...</td>\n",
              "      <td>NaN</td>\n",
              "      <td>Hip Flexibility\\r</td>\n",
              "      <td>NaN</td>\n",
              "      <td>Beginners</td>\n",
              "    </tr>\n",
              "    <tr>\n",
              "      <th>8</th>\n",
              "      <td>20</td>\n",
              "      <td>Pada Sanchalanasana</td>\n",
              "      <td>Stage I : Lie in the starting position and rel...</td>\n",
              "      <td>Good for hip and knee joints. Strengthens abdo...</td>\n",
              "      <td>Not to be performed by persons suffering from ...</td>\n",
              "      <td>Inhale while straightening the leg. Exhale whi...</td>\n",
              "      <td>On the smoothness of the movement and proper c...</td>\n",
              "      <td>NaN</td>\n",
              "      <td>https://encrypted-tbn0.gstatic.com/images?q=tb...</td>\n",
              "      <td>NaN</td>\n",
              "      <td>Core Toning</td>\n",
              "      <td>NaN</td>\n",
              "      <td>Beginners</td>\n",
              "    </tr>\n",
              "    <tr>\n",
              "      <th>9</th>\n",
              "      <td>21</td>\n",
              "      <td>Supta Pawanmuktasana</td>\n",
              "      <td>Stage I: Lie in the starting position and rela...</td>\n",
              "      <td>Supta pawanmuktasana strengthens the lower bac...</td>\n",
              "      <td>Not to be performed by persons suffering from ...</td>\n",
              "      <td>NaN</td>\n",
              "      <td>On the movement, the abdominal pressure, and t...</td>\n",
              "      <td>NaN</td>\n",
              "      <td>https://encrypted-tbn0.gstatic.com/images?q=tb...</td>\n",
              "      <td>NaN</td>\n",
              "      <td>Digestive Massage</td>\n",
              "      <td>NaN</td>\n",
              "      <td>Beginners</td>\n",
              "    </tr>\n",
              "    <tr>\n",
              "      <th>10</th>\n",
              "      <td>23</td>\n",
              "      <td>Supta Udarakarshanasana</td>\n",
              "      <td>Lie in the starting position and relax. Bend t...</td>\n",
              "      <td>This asana gives an excellent stretch to the a...</td>\n",
              "      <td>NaN</td>\n",
              "      <td>Exhale while lowering the legs to the sides. H...</td>\n",
              "      <td>On the twisting stretch of the paraspinal and ...</td>\n",
              "      <td>NaN</td>\n",
              "      <td>https://encrypted-tbn0.gstatic.com/images?q=tb...</td>\n",
              "      <td>NaN</td>\n",
              "      <td>Hip Relaxation</td>\n",
              "      <td>Bend the knees and bring the thighs up to the ...</td>\n",
              "      <td>Beginners</td>\n",
              "    </tr>\n",
              "    <tr>\n",
              "      <th>11</th>\n",
              "      <td>24</td>\n",
              "      <td>Shava Udarakarshanasana</td>\n",
              "      <td>Lie in the starting position with the legs and...</td>\n",
              "      <td>Tightness and tiredness are relieved, especial...</td>\n",
              "      <td>This asana can realign the hip joint. It shoul...</td>\n",
              "      <td>Inhale in the starting position. Exhale while ...</td>\n",
              "      <td>On the relaxation of the back, arms and should...</td>\n",
              "      <td>NaN</td>\n",
              "      <td>https://encrypted-tbn0.gstatic.com/images?q=tb...</td>\n",
              "      <td>NaN</td>\n",
              "      <td>Spinal Relief</td>\n",
              "      <td>NaN</td>\n",
              "      <td>Beginners</td>\n",
              "    </tr>\n",
              "    <tr>\n",
              "      <th>12</th>\n",
              "      <td>25</td>\n",
              "      <td>Naukasana</td>\n",
              "      <td>Lie in the starting position. Keep the eyes op...</td>\n",
              "      <td>This asana stimulates the muscular, digestive,...</td>\n",
              "      <td>NaN</td>\n",
              "      <td>Inhale before raising the body. Retain the bre...</td>\n",
              "      <td>On the movement, mental counting and tensing o...</td>\n",
              "      <td>NaN</td>\n",
              "      <td>https://encrypted-tbn0.gstatic.com/images?q=tb...</td>\n",
              "      <td>NaN</td>\n",
              "      <td>Muscular Stimulation</td>\n",
              "      <td>Repeat the same process as above, but clench t...</td>\n",
              "      <td>Beginners</td>\n",
              "    </tr>\n",
              "    <tr>\n",
              "      <th>13</th>\n",
              "      <td>28</td>\n",
              "      <td>Chakki Chalanasana</td>\n",
              "      <td>Sit with the legs stretched out in front of th...</td>\n",
              "      <td>This asana is excellent for toning the nerves ...</td>\n",
              "      <td>NaN</td>\n",
              "      <td>Inhale while leaning back. Exhale while moving...</td>\n",
              "      <td>On the movement and sensations in the lower ba...</td>\n",
              "      <td>NaN</td>\n",
              "      <td>https://encrypted-tbn0.gstatic.com/images?q=tb...</td>\n",
              "      <td>NaN</td>\n",
              "      <td>Pelvic Toning</td>\n",
              "      <td>NaN</td>\n",
              "      <td>Beginners</td>\n",
              "    </tr>\n",
              "    <tr>\n",
              "      <th>14</th>\n",
              "      <td>29</td>\n",
              "      <td>Nauka Sanchalanasana</td>\n",
              "      <td>Sit with both legs straight in front of the bo...</td>\n",
              "      <td>This asana has a positive effect on the pelvis...</td>\n",
              "      <td>NaN</td>\n",
              "      <td>Inhale while leaning back. Exhale while bendin...</td>\n",
              "      <td>On the movement and sensations in the lower ba...</td>\n",
              "      <td>NaN</td>\n",
              "      <td>https://encrypted-tbn0.gstatic.com/images?q=tb...</td>\n",
              "      <td>NaN</td>\n",
              "      <td>Abdominal Wellness</td>\n",
              "      <td>NaN</td>\n",
              "      <td>Beginners</td>\n",
              "    </tr>\n",
              "    <tr>\n",
              "      <th>15</th>\n",
              "      <td>30</td>\n",
              "      <td>Kashtha Takshanasana</td>\n",
              "      <td>Squat with the feet flat on the floor about 45...</td>\n",
              "      <td>This asana loosens up the pelvic girdle and to...</td>\n",
              "      <td>Not for people with knee problems or sciatica.</td>\n",
              "      <td>Inhale while raising the arms. Exhale while lo...</td>\n",
              "      <td>On the movement and stretch of the shoulder an...</td>\n",
              "      <td>NaN</td>\n",
              "      <td>https://encrypted-tbn0.gstatic.com/images?q=tb...</td>\n",
              "      <td>NaN</td>\n",
              "      <td>Upper Back Relief</td>\n",
              "      <td>NaN</td>\n",
              "      <td>Beginners</td>\n",
              "    </tr>\n",
              "    <tr>\n",
              "      <th>16</th>\n",
              "      <td>31</td>\n",
              "      <td>Namaskarasana</td>\n",
              "      <td>Squat with the feet flat on the floor about 60...</td>\n",
              "      <td>This asana has a profound effect on the nerves...</td>\n",
              "      <td>Not for people with knee problems or sciatica.</td>\n",
              "      <td>Inhale while bringing the palms together in fr...</td>\n",
              "      <td>On the stretch on the groin and compression at...</td>\n",
              "      <td>NaN</td>\n",
              "      <td>https://encrypted-tbn0.gstatic.com/images?q=tb...</td>\n",
              "      <td>NaN</td>\n",
              "      <td>Shoulder Relief</td>\n",
              "      <td>NaN</td>\n",
              "      <td>Beginners</td>\n",
              "    </tr>\n",
              "    <tr>\n",
              "      <th>17</th>\n",
              "      <td>34</td>\n",
              "      <td>Udarakarshanasana</td>\n",
              "      <td>Squat with the feet apart and the hands on the...</td>\n",
              "      <td>This pose is very useful for abdominal ailment...</td>\n",
              "      <td>Not fo r people with knee problems or sciatica.</td>\n",
              "      <td>NaN</td>\n",
              "      <td>On the movement and the alternate stretch and ...</td>\n",
              "      <td>NaN</td>\n",
              "      <td>https://encrypted-tbn0.gstatic.com/images?q=tb...</td>\n",
              "      <td>NaN</td>\n",
              "      <td>Digestive Relief</td>\n",
              "      <td>NaN</td>\n",
              "      <td>Beginners</td>\n",
              "    </tr>\n",
              "    <tr>\n",
              "      <th>18</th>\n",
              "      <td>42</td>\n",
              "      <td>Nearing And Distant Viewing</td>\n",
              "      <td>Stand or sit at an open window, preferably wit...</td>\n",
              "      <td>This exercise improves the accommodating and f...</td>\n",
              "      <td>Those who suffer from major eye diseases or di...</td>\n",
              "      <td>Inhale during near viewing. Exhale during dist...</td>\n",
              "      <td>NaN</td>\n",
              "      <td>NaN</td>\n",
              "      <td>https://encrypted-tbn0.gstatic.com/images?q=tb...</td>\n",
              "      <td>NaN</td>\n",
              "      <td>Muscle Fatigue\\r\\n\\r</td>\n",
              "      <td>NaN</td>\n",
              "      <td>Beginners</td>\n",
              "    </tr>\n",
              "    <tr>\n",
              "      <th>19</th>\n",
              "      <td>43</td>\n",
              "      <td>Shavasana (corpse pose)</td>\n",
              "      <td>Lie flat on the back with the arms about 15 em...</td>\n",
              "      <td>This asana relaxes the whole psycho-physiologi...</td>\n",
              "      <td>NaN</td>\n",
              "      <td>Natural and relaxed, or begin to count the bre...</td>\n",
              "      <td>Physical - first on relaxing the whole body, t...</td>\n",
              "      <td>NaN</td>\n",
              "      <td>https://encrypted-tbn0.gstatic.com/images?q=tb...</td>\n",
              "      <td>NaN</td>\n",
              "      <td>Physical Strain</td>\n",
              "      <td>NaN</td>\n",
              "      <td>Beginners</td>\n",
              "    </tr>\n",
              "  </tbody>\n",
              "</table>\n",
              "</div>\n",
              "    <div class=\"colab-df-buttons\">\n",
              "\n",
              "  <div class=\"colab-df-container\">\n",
              "    <button class=\"colab-df-convert\" onclick=\"convertToInteractive('df-498233cc-95a2-4567-8afd-869d2ffb28f2')\"\n",
              "            title=\"Convert this dataframe to an interactive table.\"\n",
              "            style=\"display:none;\">\n",
              "\n",
              "  <svg xmlns=\"http://www.w3.org/2000/svg\" height=\"24px\" viewBox=\"0 -960 960 960\">\n",
              "    <path d=\"M120-120v-720h720v720H120Zm60-500h600v-160H180v160Zm220 220h160v-160H400v160Zm0 220h160v-160H400v160ZM180-400h160v-160H180v160Zm440 0h160v-160H620v160ZM180-180h160v-160H180v160Zm440 0h160v-160H620v160Z\"/>\n",
              "  </svg>\n",
              "    </button>\n",
              "\n",
              "  <style>\n",
              "    .colab-df-container {\n",
              "      display:flex;\n",
              "      gap: 12px;\n",
              "    }\n",
              "\n",
              "    .colab-df-convert {\n",
              "      background-color: #E8F0FE;\n",
              "      border: none;\n",
              "      border-radius: 50%;\n",
              "      cursor: pointer;\n",
              "      display: none;\n",
              "      fill: #1967D2;\n",
              "      height: 32px;\n",
              "      padding: 0 0 0 0;\n",
              "      width: 32px;\n",
              "    }\n",
              "\n",
              "    .colab-df-convert:hover {\n",
              "      background-color: #E2EBFA;\n",
              "      box-shadow: 0px 1px 2px rgba(60, 64, 67, 0.3), 0px 1px 3px 1px rgba(60, 64, 67, 0.15);\n",
              "      fill: #174EA6;\n",
              "    }\n",
              "\n",
              "    .colab-df-buttons div {\n",
              "      margin-bottom: 4px;\n",
              "    }\n",
              "\n",
              "    [theme=dark] .colab-df-convert {\n",
              "      background-color: #3B4455;\n",
              "      fill: #D2E3FC;\n",
              "    }\n",
              "\n",
              "    [theme=dark] .colab-df-convert:hover {\n",
              "      background-color: #434B5C;\n",
              "      box-shadow: 0px 1px 3px 1px rgba(0, 0, 0, 0.15);\n",
              "      filter: drop-shadow(0px 1px 2px rgba(0, 0, 0, 0.3));\n",
              "      fill: #FFFFFF;\n",
              "    }\n",
              "  </style>\n",
              "\n",
              "    <script>\n",
              "      const buttonEl =\n",
              "        document.querySelector('#df-498233cc-95a2-4567-8afd-869d2ffb28f2 button.colab-df-convert');\n",
              "      buttonEl.style.display =\n",
              "        google.colab.kernel.accessAllowed ? 'block' : 'none';\n",
              "\n",
              "      async function convertToInteractive(key) {\n",
              "        const element = document.querySelector('#df-498233cc-95a2-4567-8afd-869d2ffb28f2');\n",
              "        const dataTable =\n",
              "          await google.colab.kernel.invokeFunction('convertToInteractive',\n",
              "                                                    [key], {});\n",
              "        if (!dataTable) return;\n",
              "\n",
              "        const docLinkHtml = 'Like what you see? Visit the ' +\n",
              "          '<a target=\"_blank\" href=https://colab.research.google.com/notebooks/data_table.ipynb>data table notebook</a>'\n",
              "          + ' to learn more about interactive tables.';\n",
              "        element.innerHTML = '';\n",
              "        dataTable['output_type'] = 'display_data';\n",
              "        await google.colab.output.renderOutput(dataTable, element);\n",
              "        const docLink = document.createElement('div');\n",
              "        docLink.innerHTML = docLinkHtml;\n",
              "        element.appendChild(docLink);\n",
              "      }\n",
              "    </script>\n",
              "  </div>\n",
              "\n",
              "\n",
              "<div id=\"df-ec20622d-4054-463b-aa2e-30f766672f09\">\n",
              "  <button class=\"colab-df-quickchart\" onclick=\"quickchart('df-ec20622d-4054-463b-aa2e-30f766672f09')\"\n",
              "            title=\"Suggest charts\"\n",
              "            style=\"display:none;\">\n",
              "\n",
              "<svg xmlns=\"http://www.w3.org/2000/svg\" height=\"24px\"viewBox=\"0 0 24 24\"\n",
              "     width=\"24px\">\n",
              "    <g>\n",
              "        <path d=\"M19 3H5c-1.1 0-2 .9-2 2v14c0 1.1.9 2 2 2h14c1.1 0 2-.9 2-2V5c0-1.1-.9-2-2-2zM9 17H7v-7h2v7zm4 0h-2V7h2v10zm4 0h-2v-4h2v4z\"/>\n",
              "    </g>\n",
              "</svg>\n",
              "  </button>\n",
              "\n",
              "<style>\n",
              "  .colab-df-quickchart {\n",
              "      --bg-color: #E8F0FE;\n",
              "      --fill-color: #1967D2;\n",
              "      --hover-bg-color: #E2EBFA;\n",
              "      --hover-fill-color: #174EA6;\n",
              "      --disabled-fill-color: #AAA;\n",
              "      --disabled-bg-color: #DDD;\n",
              "  }\n",
              "\n",
              "  [theme=dark] .colab-df-quickchart {\n",
              "      --bg-color: #3B4455;\n",
              "      --fill-color: #D2E3FC;\n",
              "      --hover-bg-color: #434B5C;\n",
              "      --hover-fill-color: #FFFFFF;\n",
              "      --disabled-bg-color: #3B4455;\n",
              "      --disabled-fill-color: #666;\n",
              "  }\n",
              "\n",
              "  .colab-df-quickchart {\n",
              "    background-color: var(--bg-color);\n",
              "    border: none;\n",
              "    border-radius: 50%;\n",
              "    cursor: pointer;\n",
              "    display: none;\n",
              "    fill: var(--fill-color);\n",
              "    height: 32px;\n",
              "    padding: 0;\n",
              "    width: 32px;\n",
              "  }\n",
              "\n",
              "  .colab-df-quickchart:hover {\n",
              "    background-color: var(--hover-bg-color);\n",
              "    box-shadow: 0 1px 2px rgba(60, 64, 67, 0.3), 0 1px 3px 1px rgba(60, 64, 67, 0.15);\n",
              "    fill: var(--button-hover-fill-color);\n",
              "  }\n",
              "\n",
              "  .colab-df-quickchart-complete:disabled,\n",
              "  .colab-df-quickchart-complete:disabled:hover {\n",
              "    background-color: var(--disabled-bg-color);\n",
              "    fill: var(--disabled-fill-color);\n",
              "    box-shadow: none;\n",
              "  }\n",
              "\n",
              "  .colab-df-spinner {\n",
              "    border: 2px solid var(--fill-color);\n",
              "    border-color: transparent;\n",
              "    border-bottom-color: var(--fill-color);\n",
              "    animation:\n",
              "      spin 1s steps(1) infinite;\n",
              "  }\n",
              "\n",
              "  @keyframes spin {\n",
              "    0% {\n",
              "      border-color: transparent;\n",
              "      border-bottom-color: var(--fill-color);\n",
              "      border-left-color: var(--fill-color);\n",
              "    }\n",
              "    20% {\n",
              "      border-color: transparent;\n",
              "      border-left-color: var(--fill-color);\n",
              "      border-top-color: var(--fill-color);\n",
              "    }\n",
              "    30% {\n",
              "      border-color: transparent;\n",
              "      border-left-color: var(--fill-color);\n",
              "      border-top-color: var(--fill-color);\n",
              "      border-right-color: var(--fill-color);\n",
              "    }\n",
              "    40% {\n",
              "      border-color: transparent;\n",
              "      border-right-color: var(--fill-color);\n",
              "      border-top-color: var(--fill-color);\n",
              "    }\n",
              "    60% {\n",
              "      border-color: transparent;\n",
              "      border-right-color: var(--fill-color);\n",
              "    }\n",
              "    80% {\n",
              "      border-color: transparent;\n",
              "      border-right-color: var(--fill-color);\n",
              "      border-bottom-color: var(--fill-color);\n",
              "    }\n",
              "    90% {\n",
              "      border-color: transparent;\n",
              "      border-bottom-color: var(--fill-color);\n",
              "    }\n",
              "  }\n",
              "</style>\n",
              "\n",
              "  <script>\n",
              "    async function quickchart(key) {\n",
              "      const quickchartButtonEl =\n",
              "        document.querySelector('#' + key + ' button');\n",
              "      quickchartButtonEl.disabled = true;  // To prevent multiple clicks.\n",
              "      quickchartButtonEl.classList.add('colab-df-spinner');\n",
              "      try {\n",
              "        const charts = await google.colab.kernel.invokeFunction(\n",
              "            'suggestCharts', [key], {});\n",
              "      } catch (error) {\n",
              "        console.error('Error during call to suggestCharts:', error);\n",
              "      }\n",
              "      quickchartButtonEl.classList.remove('colab-df-spinner');\n",
              "      quickchartButtonEl.classList.add('colab-df-quickchart-complete');\n",
              "    }\n",
              "    (() => {\n",
              "      let quickchartButtonEl =\n",
              "        document.querySelector('#df-ec20622d-4054-463b-aa2e-30f766672f09 button');\n",
              "      quickchartButtonEl.style.display =\n",
              "        google.colab.kernel.accessAllowed ? 'block' : 'none';\n",
              "    })();\n",
              "  </script>\n",
              "</div>\n",
              "    </div>\n",
              "  </div>\n"
            ],
            "application/vnd.google.colaboratory.intrinsic+json": {
              "type": "dataframe",
              "variable_name": "data",
              "summary": "{\n  \"name\": \"data\",\n  \"rows\": 103,\n  \"fields\": [\n    {\n      \"column\": \"AID\",\n      \"properties\": {\n        \"dtype\": \"number\",\n        \"std\": 47,\n        \"min\": 1,\n        \"max\": 197,\n        \"num_unique_values\": 103,\n        \"samples\": [\n          57,\n          98,\n          93\n        ],\n        \"semantic_type\": \"\",\n        \"description\": \"\"\n      }\n    },\n    {\n      \"column\": \"AName\",\n      \"properties\": {\n        \"dtype\": \"string\",\n        \"num_unique_values\": 103,\n        \"samples\": [\n          \"PADADHIRASANA\",\n          \"Saral Bhujangasana (easy cobra pose)\",\n          \"Matsyasana (fish pose)\"\n        ],\n        \"semantic_type\": \"\",\n        \"description\": \"\"\n      }\n    },\n    {\n      \"column\": \"Description\",\n      \"properties\": {\n        \"dtype\": \"string\",\n        \"num_unique_values\": 103,\n        \"samples\": [\n          \"Sit in vajrasana\\nCross the arms in front of the chest, placing the hands\\nunder the opposite armpits with the thumbs pointing\\nupward, or, for a stronger effect, make fists of the hands\\nand place them under the armpits.\\nClose the eyes and become aware of the breathing process. \",\n          \"Lie flat on the stomach with the forehead resting on the\\nfloor, the legs straight, feet together, and the soles of the\\nfeet uppermost.\\nBend the arms and place the forearms on the floor with\\nthe palms downward on each side of the head. The\\nfingertips point forward, but are in line with the crown of\\nthe head. The forearms and elbows are close to the body.\\nRelax the whole body.\\nRaise the head, shoulders and chest by bringing the upper\\narms to the vertical position.\\nThe elbows, forearms and hands will remain on the floor.\\nRelax in the position for a comfortable length of time and\\nthen slowly lower the body.\\nThis is one round.\",\n          \"Sit in padmasana and relax the whole body.\\nCarefully bend backward, supporting the body with the\\narms and elbows. Lift the chest slightly, take the head back\\nand lower the crown of the head to the floor.\\nHold the big toes and rest the elbows on the floor.\\nAdjust the position of the head so that the maxilnum arch\\nof the back is attained.\\nRelax the arms and the whole body, allowing the head,\\nbuttocks and legs to support the weight of the body.\\nClose the eyes and breathe slowly and deeply.\\nReturn to the starting position, reversing the order of\\nmovements.\\nRepeat the asana, with the legs crossed the other way.\"\n        ],\n        \"semantic_type\": \"\",\n        \"description\": \"\"\n      }\n    },\n    {\n      \"column\": \"Benefits\",\n      \"properties\": {\n        \"dtype\": \"string\",\n        \"num_unique_values\": 99,\n        \"samples\": [\n          \"This asana has a regulating effect on the adrenal\\nglands and calms an excited mind. It helps emotional\\nstability generally, giving a sense of security, while those\\nwho experience uncontrollable anger may practise this\\npose regularly. It massages and tones the abdominal organs,\\nstimulates the digestive fire and increases the appetite. It\\nalso develops the sense of balance.\",\n          \"As given for ushtrasana, but at a reduced level.\",\n          \"Kapalbhati has a cleansing effect on the lungs and is\\na good practice for respiratory disorders. It balances and\\nstrengthens the nervous system and tones the digestive\\norgans. It purifies the nadis, and removes sensory distractions. It energizes the mind for mental work and\\nremoves sleepiness. \"\n        ],\n        \"semantic_type\": \"\",\n        \"description\": \"\"\n      }\n    },\n    {\n      \"column\": \"Contraindications\",\n      \"properties\": {\n        \"dtype\": \"string\",\n        \"num_unique_values\": 64,\n        \"samples\": [\n          \"People who suffer from a weak heart,\\nhigh blood pressure, back problems, hernia, colitis, peptic\\nor duodenal ulcers, or vertigo should not practise this\\nasana.\",\n          \"Those suffering from slipped disc, sciatica, hernia or chronic arthritis should not perform this asana. It should only be attempted if the spine is sufficiently flexible\",\n          \"People with sciatica and sacral conditions\\nshould avoid this asana.\"\n        ],\n        \"semantic_type\": \"\",\n        \"description\": \"\"\n      }\n    },\n    {\n      \"column\": \"Breathing\",\n      \"properties\": {\n        \"dtype\": \"string\",\n        \"num_unique_values\": 88,\n        \"samples\": [\n          \"Retain the breath inside while assuming the final\\nposition. Breathe normally in the final position.\\nRetain the breath inside while lowering the body.\",\n          \"Inhale as the toes move backward.\\nExhale as the toes move fotward.\",\n          \"Perform the movement breathing as slowly as is\\ncomfortable. Aim at taking at least 5 seconds for both\\ninhalation and exhalation. \"\n        ],\n        \"semantic_type\": \"\",\n        \"description\": \"\"\n      }\n    },\n    {\n      \"column\": \"awareness\",\n      \"properties\": {\n        \"dtype\": \"string\",\n        \"num_unique_values\": 84,\n        \"samples\": [\n          \"Physical - on maintaining balance while lowering\\nand raising the body.\\nSpiritual - on mooladhara chakra.\",\n          \"On the stretching produced by the movement and\\nthe breath.\",\n          \"Physical - on the lower back, abdomen and heart,\\nand on synchronizing the breath with the movement.\\nSpiritual - on swadhisthana chakra.\"\n        ],\n        \"semantic_type\": \"\",\n        \"description\": \"\"\n      }\n    },\n    {\n      \"column\": \"You tube Vdo link\",\n      \"properties\": {\n        \"dtype\": \"number\",\n        \"std\": null,\n        \"min\": null,\n        \"max\": null,\n        \"num_unique_values\": 0,\n        \"samples\": [],\n        \"semantic_type\": \"\",\n        \"description\": \"\"\n      }\n    },\n    {\n      \"column\": \"Photo\",\n      \"properties\": {\n        \"dtype\": \"string\",\n        \"num_unique_values\": 102,\n        \"samples\": [],\n        \"semantic_type\": \"\",\n        \"description\": \"\"\n      }\n    },\n    {\n      \"column\": \"References\",\n      \"properties\": {\n        \"dtype\": \"number\",\n        \"std\": null,\n        \"min\": null,\n        \"max\": null,\n        \"num_unique_values\": 0,\n        \"samples\": [],\n        \"semantic_type\": \"\",\n        \"description\": \"\"\n      }\n    },\n    {\n      \"column\": \"Pain\",\n      \"properties\": {\n        \"dtype\": \"string\",\n        \"num_unique_values\": 87,\n        \"samples\": [],\n        \"semantic_type\": \"\",\n        \"description\": \"\"\n      }\n    },\n    {\n      \"column\": \"Variations\",\n      \"properties\": {\n        \"dtype\": \"category\",\n        \"num_unique_values\": 28,\n        \"samples\": [],\n        \"semantic_type\": \"\",\n        \"description\": \"\"\n      }\n    },\n    {\n      \"column\": \"Level\",\n      \"properties\": {\n        \"dtype\": \"category\",\n        \"num_unique_values\": 3,\n        \"samples\": [],\n        \"semantic_type\": \"\",\n        \"description\": \"\"\n      }\n    }\n  ]\n}"
            }
          },
          "metadata": {},
          "execution_count": 6
        }
      ]
    },
    {
      "cell_type": "code",
      "source": [
        "data.shape"
      ],
      "metadata": {
        "colab": {
          "base_uri": "https://localhost:8080/"
        },
        "id": "7GbexIhCu4xW",
        "outputId": "9275dfc9-99d8-4694-b990-1b67a6f86ec6"
      },
      "execution_count": null,
      "outputs": [
        {
          "output_type": "execute_result",
          "data": {
            "text/plain": [
              "(103, 13)"
            ]
          },
          "metadata": {},
          "execution_count": 7
        }
      ]
    },
    {
      "cell_type": "code",
      "source": [
        "print(data[\"Pain\"])"
      ],
      "metadata": {
        "colab": {
          "base_uri": "https://localhost:8080/"
        },
        "id": "atHiWED-iriu",
        "outputId": "51070c78-ec97-42cf-9838-5dbdbdcc1a97"
      },
      "execution_count": null,
      "outputs": [
        {
          "output_type": "stream",
          "name": "stdout",
          "text": [
            "0        Joint stiffness and muscle aches\n",
            "1                     Muscle Relaxation\\r\n",
            "2      Pain Alleviation\\r\\n\\r\\n\\r\\n\\r\\n\\r\n",
            "3                       Tension Reduction\n",
            "4                       Joint Flexibility\n",
            "                      ...                \n",
            "98                          Toxin Removal\n",
            "99                 Respiratory Disorders:\n",
            "100                    Mental Tranquility\n",
            "101                    Depression Relief:\n",
            "102              Psycho Neural Activation\n",
            "Name: Pain, Length: 103, dtype: object\n"
          ]
        }
      ]
    },
    {
      "cell_type": "code",
      "source": [
        "print(data['Pain'][3])"
      ],
      "metadata": {
        "colab": {
          "base_uri": "https://localhost:8080/"
        },
        "id": "Fxno-5fY087I",
        "outputId": "e388246b-29ef-4136-e20b-9d4eac4b3d38"
      },
      "execution_count": null,
      "outputs": [
        {
          "output_type": "stream",
          "name": "stdout",
          "text": [
            "Tension Reduction\n"
          ]
        }
      ]
    },
    {
      "cell_type": "code",
      "source": [
        "from IPython.display import Image, display"
      ],
      "metadata": {
        "id": "HbJ89b0qq247"
      },
      "execution_count": null,
      "outputs": []
    },
    {
      "cell_type": "code",
      "source": [
        "# Fill missing values in the 'Photo' column with empty strings\n",
        "data['Photo'] = data['Photo'].fillna('')\n",
        "\n",
        "# Convert all values in the 'Photo' column to strings\n",
        "data['Photo'] = data['Photo'].astype(str)\n",
        "\n",
        "# Display images\n",
        "for photo_url in data['Photo']:\n",
        "    if photo_url.strip() != '':\n",
        "        display(Image(url=photo_url))"
      ],
      "metadata": {
        "colab": {
          "base_uri": "https://localhost:8080/",
          "height": 1000
        },
        "id": "cqvcfKUjqDn6",
        "outputId": "51c376c1-96a6-43ef-8195-8e298227b3ce"
      },
      "execution_count": null,
      "outputs": [
        {
          "output_type": "display_data",
          "data": {
            "text/html": [
              "<img src=\"https://cdn.doyou.com/wp/2015/05/Susan-Yoga-Poses-Start-1A-Ankle-Bending.jpg\"/>"
            ],
            "text/plain": [
              "<IPython.core.display.Image object>"
            ]
          },
          "metadata": {}
        },
        {
          "output_type": "display_data",
          "data": {
            "text/html": [
              "<img src=\"https://encrypted-tbn0.gstatic.com/images?q=tbn:ANd9GcT5QoSGA0ydyy9VRIiPhEHL2IO5iO-mOfgUuQ&s\"/>"
            ],
            "text/plain": [
              "<IPython.core.display.Image object>"
            ]
          },
          "metadata": {}
        },
        {
          "output_type": "display_data",
          "data": {
            "text/html": [
              "<img src=\"https://selfhealingonline.com/wp-content/uploads/2016/06/manibandha-namana-wrist-bending-13.png\"/>"
            ],
            "text/plain": [
              "<IPython.core.display.Image object>"
            ]
          },
          "metadata": {}
        },
        {
          "output_type": "display_data",
          "data": {
            "text/html": [
              "<img src=\"https://do-yoga.s3.amazonaws.com/224d26b2-ed0b-4a94-a607-47502d8503c8.jpg\"/>"
            ],
            "text/plain": [
              "<IPython.core.display.Image object>"
            ]
          },
          "metadata": {}
        },
        {
          "output_type": "display_data",
          "data": {
            "text/html": [
              "<img src=\"https://encrypted-tbn0.gstatic.com/images?q=tbn:ANd9GcRABC9DLbJ29G3iRLn2hScchRyfzj9o0YFLYw&s\"/>"
            ],
            "text/plain": [
              "<IPython.core.display.Image object>"
            ]
          },
          "metadata": {}
        },
        {
          "output_type": "display_data",
          "data": {
            "text/html": [
              "<img src=\"https://encrypted-tbn0.gstatic.com/images?q=tbn:ANd9GcS8YglckRcNDznHeeq1MbNGSsEHSRv2zWYkJ7gW_OolDg&\"/>"
            ],
            "text/plain": [
              "<IPython.core.display.Image object>"
            ]
          },
          "metadata": {}
        },
        {
          "output_type": "display_data",
          "data": {
            "text/html": [
              "<img src=\"https://encrypted-tbn0.gstatic.com/images?q=tbn:ANd9GcR1fKSmpodDWJZaoGF8juILpvtAtBagfI-3nA&s\"/>"
            ],
            "text/plain": [
              "<IPython.core.display.Image object>"
            ]
          },
          "metadata": {}
        },
        {
          "output_type": "display_data",
          "data": {
            "text/html": [
              "<img src=\"https://encrypted-tbn0.gstatic.com/images?q=tbn:ANd9GcQYh5xJO8VYYanERMHE8FCcETaFM_UN-QTrXw&s\"/>"
            ],
            "text/plain": [
              "<IPython.core.display.Image object>"
            ]
          },
          "metadata": {}
        },
        {
          "output_type": "display_data",
          "data": {
            "text/html": [
              "<img src=\"https://encrypted-tbn0.gstatic.com/images?q=tbn:ANd9GcTBngq7gU8c7EvmWyS9kgzrvARiCBC4Gn-guQ&s\"/>"
            ],
            "text/plain": [
              "<IPython.core.display.Image object>"
            ]
          },
          "metadata": {}
        },
        {
          "output_type": "display_data",
          "data": {
            "text/html": [
              "<img src=\"https://encrypted-tbn0.gstatic.com/images?q=tbn:ANd9GcRLSisjS5j1twHDcIb69chpoUQS8EEcHMdCAg&s\"/>"
            ],
            "text/plain": [
              "<IPython.core.display.Image object>"
            ]
          },
          "metadata": {}
        },
        {
          "output_type": "display_data",
          "data": {
            "text/html": [
              "<img src=\"https://encrypted-tbn0.gstatic.com/images?q=tbn:ANd9GcQGpVfBiSh3tY5apR6dDtzpSje3QAMmhJb8nw&s\"/>"
            ],
            "text/plain": [
              "<IPython.core.display.Image object>"
            ]
          },
          "metadata": {}
        },
        {
          "output_type": "display_data",
          "data": {
            "text/html": [
              "<img src=\"https://encrypted-tbn0.gstatic.com/images?q=tbn:ANd9GcSC0rFEzUU7yL9trjv2fX-4DDYcC-fP5uSzWA&s\"/>"
            ],
            "text/plain": [
              "<IPython.core.display.Image object>"
            ]
          },
          "metadata": {}
        },
        {
          "output_type": "display_data",
          "data": {
            "text/html": [
              "<img src=\"https://encrypted-tbn0.gstatic.com/images?q=tbn:ANd9GcRcr5Cc2GKhJDIqGhAQBMTQUiWJkbTzjZTFPA&s\"/>"
            ],
            "text/plain": [
              "<IPython.core.display.Image object>"
            ]
          },
          "metadata": {}
        },
        {
          "output_type": "display_data",
          "data": {
            "text/html": [
              "<img src=\"https://encrypted-tbn0.gstatic.com/images?q=tbn:ANd9GcTgwjDxTKUOfbVyY_EJlWeG_rmtCPc3O9_nlQ&s\"/>"
            ],
            "text/plain": [
              "<IPython.core.display.Image object>"
            ]
          },
          "metadata": {}
        },
        {
          "output_type": "display_data",
          "data": {
            "text/html": [
              "<img src=\"https://encrypted-tbn0.gstatic.com/images?q=tbn:ANd9GcQkJm4gYYrJLqhff_7IbsfaE9xI39-0xCex5A&s\"/>"
            ],
            "text/plain": [
              "<IPython.core.display.Image object>"
            ]
          },
          "metadata": {}
        },
        {
          "output_type": "display_data",
          "data": {
            "text/html": [
              "<img src=\"https://encrypted-tbn0.gstatic.com/images?q=tbn:ANd9GcR_CLte0M3I9pfgPahUzrck4wQJ74HM6-neMA&s\"/>"
            ],
            "text/plain": [
              "<IPython.core.display.Image object>"
            ]
          },
          "metadata": {}
        },
        {
          "output_type": "display_data",
          "data": {
            "text/html": [
              "<img src=\"https://encrypted-tbn0.gstatic.com/images?q=tbn:ANd9GcQpAIuz0Li4i9YjjkqMxGqgd8mvTVlOTA_elw&s\"/>"
            ],
            "text/plain": [
              "<IPython.core.display.Image object>"
            ]
          },
          "metadata": {}
        },
        {
          "output_type": "display_data",
          "data": {
            "text/html": [
              "<img src=\"https://encrypted-tbn0.gstatic.com/images?q=tbn:ANd9GcQ5TKSDIhPchjkNN4pRJ0GDQS1Ihav1HiCzuw&s\"/>"
            ],
            "text/plain": [
              "<IPython.core.display.Image object>"
            ]
          },
          "metadata": {}
        },
        {
          "output_type": "display_data",
          "data": {
            "text/html": [
              "<img src=\"https://encrypted-tbn0.gstatic.com/images?q=tbn:ANd9GcTyYf4Ui1r9MBS2egAHRog66UJDbRoVdYN--g&s\"/>"
            ],
            "text/plain": [
              "<IPython.core.display.Image object>"
            ]
          },
          "metadata": {}
        },
        {
          "output_type": "display_data",
          "data": {
            "text/html": [
              "<img src=\"https://encrypted-tbn0.gstatic.com/images?q=tbn:ANd9GcRKpA_Rvkd53jzi-Z2279vK2lXRijoN0kgHfg&s\"/>"
            ],
            "text/plain": [
              "<IPython.core.display.Image object>"
            ]
          },
          "metadata": {}
        },
        {
          "output_type": "display_data",
          "data": {
            "text/html": [
              "<img src=\"https://encrypted-tbn0.gstatic.com/images?q=tbn:ANd9GcSxTZssF68Q0GAMWeAAESlXx0g8kACUMfhEsw&s\"/>"
            ],
            "text/plain": [
              "<IPython.core.display.Image object>"
            ]
          },
          "metadata": {}
        },
        {
          "output_type": "display_data",
          "data": {
            "text/html": [
              "<img src=\"https://encrypted-tbn0.gstatic.com/images?q=tbn:ANd9GcR0y7Jrz056IVeZ6pVWvKO3YrOra_YY148r20_Y-0v0WWiRz0ECb2ABHmZbOn7csj-eVw&usqp=CAU\"/>"
            ],
            "text/plain": [
              "<IPython.core.display.Image object>"
            ]
          },
          "metadata": {}
        },
        {
          "output_type": "display_data",
          "data": {
            "text/html": [
              "<img src=\"https://encrypted-tbn0.gstatic.com/images?q=tbn:ANd9GcR_ofsWZE1-0igvILXRYTRnpAslmhzj1IMk2g&s\"/>"
            ],
            "text/plain": [
              "<IPython.core.display.Image object>"
            ]
          },
          "metadata": {}
        },
        {
          "output_type": "display_data",
          "data": {
            "text/html": [
              "<img src=\"https://encrypted-tbn0.gstatic.com/images?q=tbn:ANd9GcTKnJQfixf7DL0NMlUZ-AQM3ek2-hRt1rNm3A&s\"/>"
            ],
            "text/plain": [
              "<IPython.core.display.Image object>"
            ]
          },
          "metadata": {}
        },
        {
          "output_type": "display_data",
          "data": {
            "text/html": [
              "<img src=\"https://cdn.yogajournal.com/wp-content/uploads/2021/11/Easy-Pose-Mod-2_Andrew-Clark_1.jpg?width=730\"/>"
            ],
            "text/plain": [
              "<IPython.core.display.Image object>"
            ]
          },
          "metadata": {}
        },
        {
          "output_type": "display_data",
          "data": {
            "text/html": [
              "<img src=\"https://encrypted-tbn0.gstatic.com/images?q=tbn:ANd9GcSAX3a85hmRCoLqIanWWkCmg4XrU0lajc_3jA&s\"/>"
            ],
            "text/plain": [
              "<IPython.core.display.Image object>"
            ]
          },
          "metadata": {}
        },
        {
          "output_type": "display_data",
          "data": {
            "text/html": [
              "<img src=\"https://encrypted-tbn0.gstatic.com/images?q=tbn:ANd9GcRfjT_63pl7QkuX1GWtyfdNBBdt-krKWiG_vg&s\"/>"
            ],
            "text/plain": [
              "<IPython.core.display.Image object>"
            ]
          },
          "metadata": {}
        },
        {
          "output_type": "display_data",
          "data": {
            "text/html": [
              "<img src=\"https://encrypted-tbn0.gstatic.com/images?q=tbn:ANd9GcR6NuvZuX33-ZpYjD6pe92An8XfjX3y03wDdQ&s\"/>"
            ],
            "text/plain": [
              "<IPython.core.display.Image object>"
            ]
          },
          "metadata": {}
        },
        {
          "output_type": "display_data",
          "data": {
            "text/html": [
              "<img src=\"https://encrypted-tbn0.gstatic.com/images?q=tbn:ANd9GcR4OGtNd4W5i1a4mrs_oLiqDTbHnEoy5PWeDw&s\"/>"
            ],
            "text/plain": [
              "<IPython.core.display.Image object>"
            ]
          },
          "metadata": {}
        },
        {
          "output_type": "display_data",
          "data": {
            "text/html": [
              "<img src=\"https://encrypted-tbn0.gstatic.com/images?q=tbn:ANd9GcS9p2_S8df7XffA-RR5xHVx0aHyhIgp1yLKrw&s\"/>"
            ],
            "text/plain": [
              "<IPython.core.display.Image object>"
            ]
          },
          "metadata": {}
        },
        {
          "output_type": "display_data",
          "data": {
            "text/html": [
              "<img src=\"https://encrypted-tbn0.gstatic.com/images?q=tbn:ANd9GcS6vur4BjmNEMi-KjYRfSMbWj3dHeYOeWxcKg&s\"/>"
            ],
            "text/plain": [
              "<IPython.core.display.Image object>"
            ]
          },
          "metadata": {}
        },
        {
          "output_type": "display_data",
          "data": {
            "text/html": [
              "<img src=\"https://encrypted-tbn0.gstatic.com/images?q=tbn:ANd9GcQcyDFHfHbU9UKb1s5tlP5ijXv-bch_6hiLTg&s\"/>"
            ],
            "text/plain": [
              "<IPython.core.display.Image object>"
            ]
          },
          "metadata": {}
        },
        {
          "output_type": "display_data",
          "data": {
            "text/html": [
              "<img src=\"https://encrypted-tbn0.gstatic.com/images?q=tbn:ANd9GcSizn8iyv6kxeklHeFcK9kw0WOTExYlNaWw1Q&s\"/>"
            ],
            "text/plain": [
              "<IPython.core.display.Image object>"
            ]
          },
          "metadata": {}
        },
        {
          "output_type": "display_data",
          "data": {
            "text/html": [
              "<img src=\"https://encrypted-tbn0.gstatic.com/images?q=tbn:ANd9GcSkK-N2Y0N9_z-SDqVdGd3-yxod3isLWrZ6pg&s\"/>"
            ],
            "text/plain": [
              "<IPython.core.display.Image object>"
            ]
          },
          "metadata": {}
        },
        {
          "output_type": "display_data",
          "data": {
            "text/html": [
              "<img src=\"https://encrypted-tbn0.gstatic.com/images?q=tbn:ANd9GcQOmC_ktGHbHoXy5VxViIlgDrWvrr7-6FKPxw&s\"/>"
            ],
            "text/plain": [
              "<IPython.core.display.Image object>"
            ]
          },
          "metadata": {}
        },
        {
          "output_type": "display_data",
          "data": {
            "text/html": [
              "<img src=\"https://encrypted-tbn0.gstatic.com/images?q=tbn:ANd9GcTR2nScPDK8TeI-0Nut2lQ74NCuPsqu51JVIQ&s\"/>"
            ],
            "text/plain": [
              "<IPython.core.display.Image object>"
            ]
          },
          "metadata": {}
        },
        {
          "output_type": "display_data",
          "data": {
            "text/html": [
              "<img src=\"https://encrypted-tbn0.gstatic.com/images?q=tbn:ANd9GcQdZEwmw-_G7Vo7-pQ-WtdB8lzbUQvnDbTeeQ&s\"/>"
            ],
            "text/plain": [
              "<IPython.core.display.Image object>"
            ]
          },
          "metadata": {}
        },
        {
          "output_type": "display_data",
          "data": {
            "text/html": [
              "<img src=\"https://encrypted-tbn0.gstatic.com/images?q=tbn:ANd9GcTFkKEFn1mti4Zn0w7ICbHrDjhFeKpTkV-2KQ&s\"/>"
            ],
            "text/plain": [
              "<IPython.core.display.Image object>"
            ]
          },
          "metadata": {}
        },
        {
          "output_type": "display_data",
          "data": {
            "text/html": [
              "<img src=\"https://encrypted-tbn0.gstatic.com/images?q=tbn:ANd9GcRLH5BXktQEp3eq1v5H2cy0YDghEqjeSEzscg&s\"/>"
            ],
            "text/plain": [
              "<IPython.core.display.Image object>"
            ]
          },
          "metadata": {}
        },
        {
          "output_type": "display_data",
          "data": {
            "text/html": [
              "<img src=\"https://encrypted-tbn0.gstatic.com/images?q=tbn:ANd9GcTmGujZAVXsFEoD3aW67Qrr2Hp5Vc4pJ4gh_Q&s\"/>"
            ],
            "text/plain": [
              "<IPython.core.display.Image object>"
            ]
          },
          "metadata": {}
        },
        {
          "output_type": "display_data",
          "data": {
            "text/html": [
              "<img src=\"https://encrypted-tbn0.gstatic.com/images?q=tbn:ANd9GcS1i56s-4ZrnNVUi0VvWX_6zAhJcQJH7fj5mA&s\"/>"
            ],
            "text/plain": [
              "<IPython.core.display.Image object>"
            ]
          },
          "metadata": {}
        },
        {
          "output_type": "display_data",
          "data": {
            "text/html": [
              "<img src=\"https://encrypted-tbn0.gstatic.com/images?q=tbn:ANd9GcQY7KGpRQ8p2_kVwS8Be0wzNy7QVip0_zQ9Jw&s\"/>"
            ],
            "text/plain": [
              "<IPython.core.display.Image object>"
            ]
          },
          "metadata": {}
        },
        {
          "output_type": "display_data",
          "data": {
            "text/html": [
              "<img src=\"https://encrypted-tbn0.gstatic.com/images?q=tbn:ANd9GcROCMYGVgmHwDuYptWE7PuFzQRukOKKTXCpVw&s\"/>"
            ],
            "text/plain": [
              "<IPython.core.display.Image object>"
            ]
          },
          "metadata": {}
        },
        {
          "output_type": "display_data",
          "data": {
            "text/html": [
              "<img src=\"https://encrypted-tbn0.gstatic.com/images?q=tbn:ANd9GcQq6-N01UhKTexOAT40DY_TSd_HJK2VSgSlZA&s\"/>"
            ],
            "text/plain": [
              "<IPython.core.display.Image object>"
            ]
          },
          "metadata": {}
        },
        {
          "output_type": "display_data",
          "data": {
            "text/html": [
              "<img src=\"https://encrypted-tbn0.gstatic.com/images?q=tbn:ANd9GcQM0SgZ7kHkg9JTUxO_thb4lKuJ9audsxkGyw&s\"/>"
            ],
            "text/plain": [
              "<IPython.core.display.Image object>"
            ]
          },
          "metadata": {}
        },
        {
          "output_type": "display_data",
          "data": {
            "text/html": [
              "<img src=\"https://encrypted-tbn0.gstatic.com/images?q=tbn:ANd9GcTsqq6LPRLwhDwos7ZTeMUj179MA7Pk4ZRy5g&s\"/>"
            ],
            "text/plain": [
              "<IPython.core.display.Image object>"
            ]
          },
          "metadata": {}
        },
        {
          "output_type": "display_data",
          "data": {
            "text/html": [
              "<img src=\"https://encrypted-tbn0.gstatic.com/images?q=tbn:ANd9GcTYzxVGtQQ4cNeiargcGARwiS0DitVGPav03w&s\"/>"
            ],
            "text/plain": [
              "<IPython.core.display.Image object>"
            ]
          },
          "metadata": {}
        },
        {
          "output_type": "display_data",
          "data": {
            "text/html": [
              "<img src=\"https://encrypted-tbn0.gstatic.com/images?q=tbn:ANd9GcTLnahzmuaM4mjat4qpxoS6dfFsXFGpmqjj-Q&s\"/>"
            ],
            "text/plain": [
              "<IPython.core.display.Image object>"
            ]
          },
          "metadata": {}
        },
        {
          "output_type": "display_data",
          "data": {
            "text/html": [
              "<img src=\"https://encrypted-tbn0.gstatic.com/images?q=tbn:ANd9GcR2hds66BEu9890ba--s_mJ8alFrdNJeP-YKQ&s\"/>"
            ],
            "text/plain": [
              "<IPython.core.display.Image object>"
            ]
          },
          "metadata": {}
        },
        {
          "output_type": "display_data",
          "data": {
            "text/html": [
              "<img src=\"https://encrypted-tbn0.gstatic.com/images?q=tbn:ANd9GcQ1Pjjm63Y5VI-JTOlgl9LK-LCo9vFJaxh_4A&s\"/>"
            ],
            "text/plain": [
              "<IPython.core.display.Image object>"
            ]
          },
          "metadata": {}
        },
        {
          "output_type": "display_data",
          "data": {
            "text/html": [
              "<img src=\"https://encrypted-tbn0.gstatic.com/images?q=tbn:ANd9GcSOmVSwqm2pJMO_o3r1Z5zmQ2-Hry_mPvDlbw&s\"/>"
            ],
            "text/plain": [
              "<IPython.core.display.Image object>"
            ]
          },
          "metadata": {}
        },
        {
          "output_type": "display_data",
          "data": {
            "text/html": [
              "<img src=\"https://encrypted-tbn0.gstatic.com/images?q=tbn:ANd9GcQIty9lHRQzaxgFT6cGouBTID0pp7mEqkb30Q&s\"/>"
            ],
            "text/plain": [
              "<IPython.core.display.Image object>"
            ]
          },
          "metadata": {}
        },
        {
          "output_type": "display_data",
          "data": {
            "text/html": [
              "<img src=\"https://encrypted-tbn0.gstatic.com/images?q=tbn:ANd9GcSgC6y3oaRH9xbMZpku1QH3uLm3UkN7xApnpA&s\"/>"
            ],
            "text/plain": [
              "<IPython.core.display.Image object>"
            ]
          },
          "metadata": {}
        },
        {
          "output_type": "display_data",
          "data": {
            "text/html": [
              "<img src=\"https://encrypted-tbn0.gstatic.com/images?q=tbn:ANd9GcSFPmFsXGmOTBJyMTzwSRXhTpW-7lmKichD2A&s\"/>"
            ],
            "text/plain": [
              "<IPython.core.display.Image object>"
            ]
          },
          "metadata": {}
        },
        {
          "output_type": "display_data",
          "data": {
            "text/html": [
              "<img src=\"https://encrypted-tbn0.gstatic.com/images?q=tbn:ANd9GcRgR9RKTO5DawINyVmOZ_EDYeVAZVK1NaqXpQ&s\"/>"
            ],
            "text/plain": [
              "<IPython.core.display.Image object>"
            ]
          },
          "metadata": {}
        },
        {
          "output_type": "display_data",
          "data": {
            "text/html": [
              "<img src=\"https://encrypted-tbn0.gstatic.com/images?q=tbn:ANd9GcS4dzoJWMgWUXiVlz9S53Kk9xEcCsfzMA0FZg&s\"/>"
            ],
            "text/plain": [
              "<IPython.core.display.Image object>"
            ]
          },
          "metadata": {}
        },
        {
          "output_type": "display_data",
          "data": {
            "text/html": [
              "<img src=\"https://encrypted-tbn0.gstatic.com/images?q=tbn:ANd9GcRqN5NfcvK9ujmLUTCTkBoXbHIhRY11xeUjdw&s\"/>"
            ],
            "text/plain": [
              "<IPython.core.display.Image object>"
            ]
          },
          "metadata": {}
        },
        {
          "output_type": "display_data",
          "data": {
            "text/html": [
              "<img src=\"https://encrypted-tbn0.gstatic.com/images?q=tbn:ANd9GcTpy-czmjaL6u5TnlkRMzTqNG9U4L3MSDIIRQ&s\"/>"
            ],
            "text/plain": [
              "<IPython.core.display.Image object>"
            ]
          },
          "metadata": {}
        },
        {
          "output_type": "display_data",
          "data": {
            "text/html": [
              "<img src=\"https://encrypted-tbn0.gstatic.com/images?q=tbn:ANd9GcRqLjWQhelX7QQlGxrIwwHOjDlFgXDzVlHzsg&s\"/>"
            ],
            "text/plain": [
              "<IPython.core.display.Image object>"
            ]
          },
          "metadata": {}
        },
        {
          "output_type": "display_data",
          "data": {
            "text/html": [
              "<img src=\"https://encrypted-tbn0.gstatic.com/images?q=tbn:ANd9GcRR_bnGyEqqCtbQy-zF7cqCPZJlctfJphcCoA&s\"/>"
            ],
            "text/plain": [
              "<IPython.core.display.Image object>"
            ]
          },
          "metadata": {}
        },
        {
          "output_type": "display_data",
          "data": {
            "text/html": [
              "<img src=\"https://encrypted-tbn0.gstatic.com/images?q=tbn:ANd9GcRJdlRBQhbrjtP0Ljknke7vgAcWiVQ3MYM7Gw&s\"/>"
            ],
            "text/plain": [
              "<IPython.core.display.Image object>"
            ]
          },
          "metadata": {}
        },
        {
          "output_type": "display_data",
          "data": {
            "text/html": [
              "<img src=\"https://encrypted-tbn0.gstatic.com/images?q=tbn:ANd9GcSLSDm-ysEjsy_RLc1W_0O8ZeSqfF5bI0FqpA&s\"/>"
            ],
            "text/plain": [
              "<IPython.core.display.Image object>"
            ]
          },
          "metadata": {}
        },
        {
          "output_type": "display_data",
          "data": {
            "text/html": [
              "<img src=\"https://encrypted-tbn0.gstatic.com/images?q=tbn:ANd9GcRqz82D5pnJ9js_cxrSjcq2E56AacE_5vyrlQ&s\"/>"
            ],
            "text/plain": [
              "<IPython.core.display.Image object>"
            ]
          },
          "metadata": {}
        },
        {
          "output_type": "display_data",
          "data": {
            "text/html": [
              "<img src=\"https://encrypted-tbn0.gstatic.com/images?q=tbn:ANd9GcStQ_dJxn5MigCkMI_WOQWXoIWXS1uVMGrOtw&s\"/>"
            ],
            "text/plain": [
              "<IPython.core.display.Image object>"
            ]
          },
          "metadata": {}
        },
        {
          "output_type": "display_data",
          "data": {
            "text/html": [
              "<img src=\"https://encrypted-tbn0.gstatic.com/images?q=tbn:ANd9GcS8pTwUZ3KLVlpOm19WLGBKXWhJcYahZ30kyA&s\"/>"
            ],
            "text/plain": [
              "<IPython.core.display.Image object>"
            ]
          },
          "metadata": {}
        },
        {
          "output_type": "display_data",
          "data": {
            "text/html": [
              "<img src=\"https://encrypted-tbn0.gstatic.com/images?q=tbn:ANd9GcStpDoQG6nY3G80FVWc-bvAb_vGBIwgbbq0Bg&s\"/>"
            ],
            "text/plain": [
              "<IPython.core.display.Image object>"
            ]
          },
          "metadata": {}
        },
        {
          "output_type": "display_data",
          "data": {
            "text/html": [
              "<img src=\"https://encrypted-tbn0.gstatic.com/images?q=tbn:ANd9GcSQEXBrOQ9uEGj22nKDHnL7ncV-qqn4C7rAug&s\"/>"
            ],
            "text/plain": [
              "<IPython.core.display.Image object>"
            ]
          },
          "metadata": {}
        },
        {
          "output_type": "display_data",
          "data": {
            "text/html": [
              "<img src=\"https://encrypted-tbn0.gstatic.com/images?q=tbn:ANd9GcSf6O95RlIF_Ok9fDYVUQHUPgqQEgD3e6fcfw&s\"/>"
            ],
            "text/plain": [
              "<IPython.core.display.Image object>"
            ]
          },
          "metadata": {}
        },
        {
          "output_type": "display_data",
          "data": {
            "text/html": [
              "<img src=\"https://encrypted-tbn0.gstatic.com/images?q=tbn:ANd9GcQ1MCna8gYn1Du4Hnk9DIS0ZPCvv-dn9XCGcA&s\"/>"
            ],
            "text/plain": [
              "<IPython.core.display.Image object>"
            ]
          },
          "metadata": {}
        },
        {
          "output_type": "display_data",
          "data": {
            "text/html": [
              "<img src=\"https://encrypted-tbn0.gstatic.com/images?q=tbn:ANd9GcTnpblaTeodd4-UORedKk0R2qPxZ2qtwTKROw&s\"/>"
            ],
            "text/plain": [
              "<IPython.core.display.Image object>"
            ]
          },
          "metadata": {}
        },
        {
          "output_type": "display_data",
          "data": {
            "text/html": [
              "<img src=\"https://encrypted-tbn0.gstatic.com/images?q=tbn:ANd9GcSb_jnzPjFQuZ-vFzxK8aN1PDLuP0IkRA0_5A&s\"/>"
            ],
            "text/plain": [
              "<IPython.core.display.Image object>"
            ]
          },
          "metadata": {}
        },
        {
          "output_type": "display_data",
          "data": {
            "text/html": [
              "<img src=\"https://encrypted-tbn0.gstatic.com/images?q=tbn:ANd9GcQwzO4nEcjcj2zqcc4_XgZrpeu37Q9Jg4h2tg&s\"/>"
            ],
            "text/plain": [
              "<IPython.core.display.Image object>"
            ]
          },
          "metadata": {}
        },
        {
          "output_type": "display_data",
          "data": {
            "text/html": [
              "<img src=\"https://encrypted-tbn0.gstatic.com/images?q=tbn:ANd9GcSdJYtQqtQ9VVVXeY1nDohEQ-Fe5oanRMHD-A&s\"/>"
            ],
            "text/plain": [
              "<IPython.core.display.Image object>"
            ]
          },
          "metadata": {}
        },
        {
          "output_type": "display_data",
          "data": {
            "text/html": [
              "<img src=\"https://encrypted-tbn0.gstatic.com/images?q=tbn:ANd9GcTuuQ1oHifMJlK6kocHelw1ZEL_NPmOUnZrWw&s\"/>"
            ],
            "text/plain": [
              "<IPython.core.display.Image object>"
            ]
          },
          "metadata": {}
        },
        {
          "output_type": "display_data",
          "data": {
            "text/html": [
              "<img src=\"https://encrypted-tbn0.gstatic.com/images?q=tbn:ANd9GcRTwQ4KKUnecP2Ky7k9QH5mfthaUp0F8f5xxg&s\"/>"
            ],
            "text/plain": [
              "<IPython.core.display.Image object>"
            ]
          },
          "metadata": {}
        },
        {
          "output_type": "display_data",
          "data": {
            "text/html": [
              "<img src=\"https://encrypted-tbn0.gstatic.com/images?q=tbn:ANd9GcRPNkjmK2S-xIKGu1kzvcTRv9KrUe3SvV5jSQ&s\"/>"
            ],
            "text/plain": [
              "<IPython.core.display.Image object>"
            ]
          },
          "metadata": {}
        },
        {
          "output_type": "display_data",
          "data": {
            "text/html": [
              "<img src=\"https://encrypted-tbn0.gstatic.com/images?q=tbn:ANd9GcRgrPzUwSGq3IGW5R35ptj7X-90CcOIH1GRaA&s\"/>"
            ],
            "text/plain": [
              "<IPython.core.display.Image object>"
            ]
          },
          "metadata": {}
        },
        {
          "output_type": "display_data",
          "data": {
            "text/html": [
              "<img src=\"https://encrypted-tbn0.gstatic.com/images?q=tbn:ANd9GcSYbFmysEF8WknBfjXolHYJgIKm3tUwOQ8lUQ&s\"/>"
            ],
            "text/plain": [
              "<IPython.core.display.Image object>"
            ]
          },
          "metadata": {}
        },
        {
          "output_type": "display_data",
          "data": {
            "text/html": [
              "<img src=\"https://encrypted-tbn0.gstatic.com/images?q=tbn:ANd9GcQtIUHXuoXvWmmWzBhgpuVPZWaHw8w4VNtPyg&s\"/>"
            ],
            "text/plain": [
              "<IPython.core.display.Image object>"
            ]
          },
          "metadata": {}
        },
        {
          "output_type": "display_data",
          "data": {
            "text/html": [
              "<img src=\"https://encrypted-tbn0.gstatic.com/images?q=tbn:ANd9GcSpt8X_XzGKrmdxdoYE3hvjMgloqE837ixoMg&s\"/>"
            ],
            "text/plain": [
              "<IPython.core.display.Image object>"
            ]
          },
          "metadata": {}
        },
        {
          "output_type": "display_data",
          "data": {
            "text/html": [
              "<img src=\"https://encrypted-tbn0.gstatic.com/images?q=tbn:ANd9GcTdl56p9rfqbp5CJnUydvbSqS9b4hqeQSfBiw&s\"/>"
            ],
            "text/plain": [
              "<IPython.core.display.Image object>"
            ]
          },
          "metadata": {}
        },
        {
          "output_type": "display_data",
          "data": {
            "text/html": [
              "<img src=\"https://encrypted-tbn0.gstatic.com/images?q=tbn:ANd9GcQCb0QGrXsOZ1xDeq2EhDsBderIXs5HKGMgpg&s\"/>"
            ],
            "text/plain": [
              "<IPython.core.display.Image object>"
            ]
          },
          "metadata": {}
        },
        {
          "output_type": "display_data",
          "data": {
            "text/html": [
              "<img src=\"https://encrypted-tbn0.gstatic.com/images?q=tbn:ANd9GcSvJ_DFXujKe0TZiArtvcjEUuZQamdybnQ4cQ&s\"/>"
            ],
            "text/plain": [
              "<IPython.core.display.Image object>"
            ]
          },
          "metadata": {}
        },
        {
          "output_type": "display_data",
          "data": {
            "text/html": [
              "<img src=\"https://encrypted-tbn0.gstatic.com/images?q=tbn:ANd9GcTHO6-efLZykJO2G1iFAv-Adek5zynrg0sbUuA41XEl6l3O48kPMUVVW-9uGwMS4UJSZOo&usqp=CAU\"/>"
            ],
            "text/plain": [
              "<IPython.core.display.Image object>"
            ]
          },
          "metadata": {}
        },
        {
          "output_type": "display_data",
          "data": {
            "text/html": [
              "<img src=\"https://encrypted-tbn0.gstatic.com/images?q=tbn:ANd9GcQpnCeBSGQEc47coM5Cz_cLROTLd5EEmwAeuQ&s\"/>"
            ],
            "text/plain": [
              "<IPython.core.display.Image object>"
            ]
          },
          "metadata": {}
        },
        {
          "output_type": "display_data",
          "data": {
            "text/html": [
              "<img src=\"https://encrypted-tbn0.gstatic.com/images?q=tbn:ANd9GcSzGk0_Dg5Y2SMk9mRLtetsTC8FjX7EFhghaQ&s\"/>"
            ],
            "text/plain": [
              "<IPython.core.display.Image object>"
            ]
          },
          "metadata": {}
        },
        {
          "output_type": "display_data",
          "data": {
            "text/html": [
              "<img src=\"https://encrypted-tbn0.gstatic.com/images?q=tbn:ANd9GcS3otVVe8u6RDuSju2vKmVHtLpPj98cOj-Rhw&s\"/>"
            ],
            "text/plain": [
              "<IPython.core.display.Image object>"
            ]
          },
          "metadata": {}
        },
        {
          "output_type": "display_data",
          "data": {
            "text/html": [
              "<img src=\"https://encrypted-tbn0.gstatic.com/images?q=tbn:ANd9GcRX3-mtx9KIapQYjsIpidcEr9n7INkEndScrw&s\"/>"
            ],
            "text/plain": [
              "<IPython.core.display.Image object>"
            ]
          },
          "metadata": {}
        },
        {
          "output_type": "display_data",
          "data": {
            "text/html": [
              "<img src=\"https://encrypted-tbn0.gstatic.com/images?q=tbn:ANd9GcQ_J-kx4uCtIQ_Oi2SrIxs1pc5lw_G8ktZqbg&s\"/>"
            ],
            "text/plain": [
              "<IPython.core.display.Image object>"
            ]
          },
          "metadata": {}
        },
        {
          "output_type": "display_data",
          "data": {
            "text/html": [
              "<img src=\"https://encrypted-tbn0.gstatic.com/images?q=tbn:ANd9GcS5lvS8wYe4GyCPNzZ4QApZmmr5F5yNwDd-yA&s\"/>"
            ],
            "text/plain": [
              "<IPython.core.display.Image object>"
            ]
          },
          "metadata": {}
        },
        {
          "output_type": "display_data",
          "data": {
            "text/html": [
              "<img src=\"https://encrypted-tbn0.gstatic.com/images?q=tbn:ANd9GcR2IZJEuS3gX62WwzAwH9j_WA-3SWqo0tgRAA&s\"/>"
            ],
            "text/plain": [
              "<IPython.core.display.Image object>"
            ]
          },
          "metadata": {}
        },
        {
          "output_type": "display_data",
          "data": {
            "text/html": [
              "<img src=\"https://encrypted-tbn0.gstatic.com/images?q=tbn:ANd9GcT4MxHPIhmcK_csq-OK_ytViFIVQwTtNCDdGw&s\"/>"
            ],
            "text/plain": [
              "<IPython.core.display.Image object>"
            ]
          },
          "metadata": {}
        },
        {
          "output_type": "display_data",
          "data": {
            "text/html": [
              "<img src=\"https://encrypted-tbn0.gstatic.com/images?q=tbn:ANd9GcRMF0EBkWfhofsrGx_YwWpG_UZRL1NgF0u0GA&s\"/>"
            ],
            "text/plain": [
              "<IPython.core.display.Image object>"
            ]
          },
          "metadata": {}
        },
        {
          "output_type": "display_data",
          "data": {
            "text/html": [
              "<img src=\"https://encrypted-tbn0.gstatic.com/images?q=tbn:ANd9GcTdl56p9rfqbp5CJnUydvbSqS9b4hqeQSfBiw&s\"/>"
            ],
            "text/plain": [
              "<IPython.core.display.Image object>"
            ]
          },
          "metadata": {}
        },
        {
          "output_type": "display_data",
          "data": {
            "text/html": [
              "<img src=\"https://encrypted-tbn0.gstatic.com/images?q=tbn:ANd9GcQFmFHfo1A-4Z7n3Bu3fNvg3KkncZoA0OFV-A&s\"/>"
            ],
            "text/plain": [
              "<IPython.core.display.Image object>"
            ]
          },
          "metadata": {}
        },
        {
          "output_type": "display_data",
          "data": {
            "text/html": [
              "<img src=\"https://encrypted-tbn0.gstatic.com/images?q=tbn:ANd9GcSId2W7c6vIk0qN9272_1o3NVYxCXuiOTVmbw&s\"/>"
            ],
            "text/plain": [
              "<IPython.core.display.Image object>"
            ]
          },
          "metadata": {}
        },
        {
          "output_type": "display_data",
          "data": {
            "text/html": [
              "<img src=\"https://encrypted-tbn0.gstatic.com/images?q=tbn:ANd9GcQCOQs5kPIrzIrvqjejMQeYkkruZOxuo1bJUg&s\"/>"
            ],
            "text/plain": [
              "<IPython.core.display.Image object>"
            ]
          },
          "metadata": {}
        },
        {
          "output_type": "display_data",
          "data": {
            "text/html": [
              "<img src=\"https://encrypted-tbn0.gstatic.com/images?q=tbn:ANd9GcRpEPbBe3xZ6TbM4k9bvpQXSEZxcdbhAHqR-Q&s\"/>"
            ],
            "text/plain": [
              "<IPython.core.display.Image object>"
            ]
          },
          "metadata": {}
        },
        {
          "output_type": "display_data",
          "data": {
            "text/html": [
              "<img src=\"https://encrypted-tbn0.gstatic.com/images?q=tbn:ANd9GcRvhVUE6QsPYxac-hrYwN-cDmcPxtNKsszWSA&s\"/>"
            ],
            "text/plain": [
              "<IPython.core.display.Image object>"
            ]
          },
          "metadata": {}
        },
        {
          "output_type": "display_data",
          "data": {
            "text/html": [
              "<img src=\"https://encrypted-tbn0.gstatic.com/images?q=tbn:ANd9GcQv0CKQjwJ8JtQkLYMkPdXS0myLLFfg8L5v5g&s\"/>"
            ],
            "text/plain": [
              "<IPython.core.display.Image object>"
            ]
          },
          "metadata": {}
        },
        {
          "output_type": "display_data",
          "data": {
            "text/html": [
              "<img src=\"https://encrypted-tbn0.gstatic.com/images?q=tbn:ANd9GcRHZciDVj1FUYCq_BuemAVRhsTgR02jcFBHgg&s\"/>"
            ],
            "text/plain": [
              "<IPython.core.display.Image object>"
            ]
          },
          "metadata": {}
        },
        {
          "output_type": "display_data",
          "data": {
            "text/html": [
              "<img src=\"https://encrypted-tbn0.gstatic.com/images?q=tbn:ANd9GcSQyGeSAx-t5boeLemBQVyre0tZ341YKJ9CGg&s\"/>"
            ],
            "text/plain": [
              "<IPython.core.display.Image object>"
            ]
          },
          "metadata": {}
        },
        {
          "output_type": "display_data",
          "data": {
            "text/html": [
              "<img src=\"https://encrypted-tbn0.gstatic.com/images?q=tbn:ANd9GcTdkfFKLYptSRYs1IdvDA-1lBZS08vRYD6rUA&s\"/>"
            ],
            "text/plain": [
              "<IPython.core.display.Image object>"
            ]
          },
          "metadata": {}
        }
      ]
    },
    {
      "cell_type": "code",
      "source": [
        "#the summary of the data\n",
        "data.info()"
      ],
      "metadata": {
        "execution": {
          "iopub.status.busy": "2023-02-28T21:18:09.675686Z",
          "iopub.execute_input": "2023-02-28T21:18:09.676343Z",
          "iopub.status.idle": "2023-02-28T21:18:09.70127Z",
          "shell.execute_reply.started": "2023-02-28T21:18:09.676288Z",
          "shell.execute_reply": "2023-02-28T21:18:09.700018Z"
        },
        "trusted": true,
        "id": "wEIlabZDiQg4",
        "colab": {
          "base_uri": "https://localhost:8080/"
        },
        "outputId": "57be15c2-20c9-4499-9bb5-a88b06428229"
      },
      "execution_count": null,
      "outputs": [
        {
          "output_type": "stream",
          "name": "stdout",
          "text": [
            "<class 'pandas.core.frame.DataFrame'>\n",
            "RangeIndex: 103 entries, 0 to 102\n",
            "Data columns (total 13 columns):\n",
            " #   Column             Non-Null Count  Dtype  \n",
            "---  ------             --------------  -----  \n",
            " 0   AID                103 non-null    int64  \n",
            " 1   AName              103 non-null    object \n",
            " 2   Description        103 non-null    object \n",
            " 3   Benefits           101 non-null    object \n",
            " 4   Contraindications  68 non-null     object \n",
            " 5   Breathing          90 non-null     object \n",
            " 6   awareness          87 non-null     object \n",
            " 7   You tube Vdo link  0 non-null      float64\n",
            " 8   Photo              103 non-null    object \n",
            " 9   References         0 non-null      float64\n",
            " 10  Pain               103 non-null    object \n",
            " 11  Variations         28 non-null     object \n",
            " 12  Level              97 non-null     object \n",
            "dtypes: float64(2), int64(1), object(10)\n",
            "memory usage: 10.6+ KB\n"
          ]
        }
      ]
    },
    {
      "cell_type": "code",
      "source": [
        "#Create a list that wants to keep\n",
        "columns = ['AName','Description','Benefits', 'Pain']\n",
        "print(columns)"
      ],
      "metadata": {
        "execution": {
          "iopub.status.busy": "2023-02-28T21:18:10.44131Z",
          "iopub.execute_input": "2023-02-28T21:18:10.442619Z",
          "iopub.status.idle": "2023-02-28T21:18:10.449394Z",
          "shell.execute_reply.started": "2023-02-28T21:18:10.442517Z",
          "shell.execute_reply": "2023-02-28T21:18:10.447899Z"
        },
        "trusted": true,
        "id": "in6pdcswiQg4",
        "colab": {
          "base_uri": "https://localhost:8080/"
        },
        "outputId": "9a40ed6a-2e8b-4c69-b518-258ca4deaef5"
      },
      "execution_count": null,
      "outputs": [
        {
          "output_type": "stream",
          "name": "stdout",
          "text": [
            "['AName', 'Description', 'Benefits', 'Pain']\n"
          ]
        }
      ]
    },
    {
      "cell_type": "code",
      "source": [
        "# replacing missing/null values with null string\n",
        "\n",
        "for feature in columns:\n",
        "  data[feature] = data[feature].fillna('')\n",
        "\n",
        "# fillna -  i,e fill not available or fill missing values with '' null string"
      ],
      "metadata": {
        "id": "aSysnqu-wf17"
      },
      "execution_count": null,
      "outputs": []
    },
    {
      "cell_type": "code",
      "source": [
        "# combining all the selected features together\n",
        "combined_features = data['AName']+ ' '+ data['Description']+ ' ' + data['Benefits']+ ' ' +data['Pain']"
      ],
      "metadata": {
        "id": "MWZ-2DZmxGSy"
      },
      "execution_count": null,
      "outputs": []
    },
    {
      "cell_type": "code",
      "source": [
        "print(combined_features)"
      ],
      "metadata": {
        "colab": {
          "base_uri": "https://localhost:8080/"
        },
        "id": "Va0VKiQdxhzr",
        "outputId": "89e97957-b714-4c7b-a7dd-ea9395f0bcb5"
      },
      "execution_count": null,
      "outputs": [
        {
          "output_type": "stream",
          "name": "stdout",
          "text": [
            "0      Padanguli Naman Sit in the base position with ...\n",
            "1      Pooma Titali Asana Sit in the base position.\\n...\n",
            "2      Manibandha Naman Remain in the base position o...\n",
            "3      Manibandha Chakra Remain in the base position ...\n",
            "4      Kehuni Naman Stage I : Remain in the base posi...\n",
            "                             ...                        \n",
            "98     BHASTRIKA PRANAYAMA Sit in a comfortable medit...\n",
            "99     KAPALBHATI PRANAYAMA Sit in a comfortable medi...\n",
            "100    MOORCHHA PRANAYAMA Sit in any comfortable medi...\n",
            "101    Surya Bheda Pranayama (vitality stimulating br...\n",
            "102    Chin Mudra (psychic gesture of consciousness) ...\n",
            "Length: 103, dtype: object\n"
          ]
        }
      ]
    },
    {
      "cell_type": "code",
      "source": [
        "# converting the text data to feature vector bcoz we cannot find the cosine similarity value with the text data\n",
        "vectorizer = TfidfVectorizer()"
      ],
      "metadata": {
        "id": "GmM94hUyxmu3"
      },
      "execution_count": null,
      "outputs": []
    },
    {
      "cell_type": "code",
      "source": [
        "# here feature_vector will store all the numerical values of combined_features\n",
        "feature_vector = vectorizer.fit_transform(combined_features)"
      ],
      "metadata": {
        "id": "pmvgfiF_xpNB"
      },
      "execution_count": null,
      "outputs": []
    },
    {
      "cell_type": "code",
      "source": [
        "# GETTING THE SIMILARITY SCORES USING COSINE SIMILARITY\n",
        "# getting the score values of all the features_vector\n",
        "# end result is it will find which values/movies are similar to each other\n",
        "similarity = cosine_similarity(feature_vector)"
      ],
      "metadata": {
        "id": "nLQ8OK--xtW6"
      },
      "execution_count": null,
      "outputs": []
    },
    {
      "cell_type": "code",
      "source": [
        "print(similarity)"
      ],
      "metadata": {
        "colab": {
          "base_uri": "https://localhost:8080/"
        },
        "id": "jpu3iEDRxxR7",
        "outputId": "6741917a-7fdc-44e0-c090-f360fb46f704"
      },
      "execution_count": null,
      "outputs": [
        {
          "output_type": "stream",
          "name": "stdout",
          "text": [
            "[[1.         0.36660885 0.68136637 ... 0.33645459 0.27594345 0.28014106]\n",
            " [0.36660885 1.         0.34634031 ... 0.31643143 0.22677544 0.33745221]\n",
            " [0.68136637 0.34634031 1.         ... 0.3224564  0.26060163 0.33717289]\n",
            " ...\n",
            " [0.33645459 0.31643143 0.3224564  ... 1.         0.4381244  0.35075536]\n",
            " [0.27594345 0.22677544 0.26060163 ... 0.4381244  1.         0.3428698 ]\n",
            " [0.28014106 0.33745221 0.33717289 ... 0.35075536 0.3428698  1.        ]]\n"
          ]
        }
      ]
    },
    {
      "cell_type": "code",
      "source": [
        "print(similarity.shape)\n",
        "# (index value, similarity between that movie and other movies)\n",
        "# that means avatar movie is compared with all the other 4802 movies and a similiarity value is found between them"
      ],
      "metadata": {
        "colab": {
          "base_uri": "https://localhost:8080/"
        },
        "id": "KI7Xng2fx0gA",
        "outputId": "d309e358-833a-419b-ae77-484d5f0305d6"
      },
      "execution_count": null,
      "outputs": [
        {
          "output_type": "stream",
          "name": "stdout",
          "text": [
            "(103, 103)\n"
          ]
        }
      ]
    },
    {
      "cell_type": "code",
      "source": [
        "# getting the movie name from the user\n",
        "pain_name = input('Enter the pain for which you need effective yoga poses: ')"
      ],
      "metadata": {
        "colab": {
          "base_uri": "https://localhost:8080/"
        },
        "id": "84fV4T-2yGpC",
        "outputId": "7cba2ba2-848e-4b28-a841-fc2d05ff97a3"
      },
      "execution_count": null,
      "outputs": [
        {
          "name": "stdout",
          "output_type": "stream",
          "text": [
            "Enter the pain for which you need effective yoga poses: Spinal Relief\n"
          ]
        }
      ]
    },
    {
      "cell_type": "code",
      "source": [
        "# creating a list with all the movie names given in the dataset\n",
        "\n",
        "# list_of_all_benefits = data['Benefits'].tolist()\n",
        "# print(list_of_all_benefits)\n",
        "list_of_all_pain = data['Pain'].tolist()\n",
        "print(list_of_all_pain)"
      ],
      "metadata": {
        "colab": {
          "base_uri": "https://localhost:8080/"
        },
        "id": "q4NkvWksyVUO",
        "outputId": "d2e8bac7-d440-45af-a0ac-7bc2651f770f"
      },
      "execution_count": null,
      "outputs": [
        {
          "output_type": "stream",
          "name": "stdout",
          "text": [
            "['Joint stiffness and muscle aches', 'Muscle Relaxation\\r', 'Pain Alleviation\\r\\n\\r\\n\\r\\n\\r\\n\\r', 'Tension Reduction', 'Joint Flexibility', 'Strain Reduction', 'Core Strength', 'Hip Flexibility\\r', 'Core Toning', 'Digestive Massage', 'Hip Relaxation', 'Spinal Relief', 'Muscular Stimulation', 'Pelvic Toning', 'Abdominal Wellness', 'Upper Back Relief', 'Shoulder Relief', 'Digestive Relief', 'Muscle Fatigue\\r\\n\\r', 'Physical Strain', 'Spinal Alignment', 'Neck Flexibility', 'Back Relief', 'Digestive Stimulation', 'Comfortable Balance', 'Nervous System Relaxation', 'Reproductive Hormone Control', 'Postural Support', 'Prevention of Hernia', 'Mental Stress', 'Nasal Congestion', 'Spiritual Blockage', 'Spinal Alignment', 'Voice Strain', 'Kidney Health', 'Reproductive Discomfort', 'Backache', 'Pelvic Toning', 'Abdominal Strengthening', 'Brain Adaptation', 'Postural Problems', 'Neck Stiffness', 'Abdominal Strengthening', 'Kidney Health', 'Backache', 'Digestive Discomfort', 'Postural Pain', \"Writer's Cramp\", 'Congestion Relief', 'Postural Problems', 'Weight Redistribution', 'Preparation Calmness', 'Postural Defects', 'Shoulder Pain', 'Back Stiffness', 'Intestinal Health', 'Back Tension', 'Nervous Depression', 'Improved Circulation', 'Preparation Calmness', 'Postural Defects', 'Peptic Ulcer', 'High Blood Pressure', 'Heart Condition', 'Shoulder Pain', 'Anger Management', 'Weight Reduction', 'Back Stiffness', 'Intestinal Health', 'Posture Correction', 'Back Tension Relief', 'Pelvic Organ Strengthening', 'Respiratory Disorder', 'Backache Relief', 'Shoulder Strengthening', 'Relaxation', 'Hamstring Stretch', 'Extended Stretch', 'Leg Loosening', 'Alleviate Constipation', 'Weight Reduction', 'Hamstring Stretching', 'Pancreas Stimulation', 'Low Blood Pressure', 'Improved Digestion', 'Reproductive System Disorders', 'Anxiety Relief', 'Muscle Strengthening', 'Nervous Balance', 'Muscle Strengthening', 'Improved Concentration:', 'Alleviates Constipation', 'Nervous Balance', 'Improved Concentration: ', 'Alleviates Constipation', 'Nervous Balance', 'Diabetes Management:', 'Labour Pains', 'Toxin Removal', 'Respiratory Disorders:', 'Mental Tranquility', 'Depression Relief:', 'Psycho Neural Activation']\n"
          ]
        }
      ]
    },
    {
      "cell_type": "code",
      "source": [
        "# finding the close match for the movie name given by the user\n",
        "find_close_match = difflib.get_close_matches(pain_name, list_of_all_pain)\n",
        "# checking whether the entered movie is present in the dataset or not\n",
        "print(find_close_match)\n",
        "\n",
        "# he get_close_matches function uses a similarity metric to determine how closely strings match. This metric is based on the \"edit distance\" between strings. Edit distance measures how many basic operations (such as insertion, deletion, or substitution of a single character) are needed to change one string into another."
      ],
      "metadata": {
        "colab": {
          "base_uri": "https://localhost:8080/"
        },
        "id": "V-4AetwIypAk",
        "outputId": "22e2d1de-e07a-4395-ed3a-0c90f21683f9"
      },
      "execution_count": null,
      "outputs": [
        {
          "output_type": "stream",
          "name": "stdout",
          "text": [
            "['Spinal Relief', 'Spinal Alignment', 'Spinal Alignment']\n"
          ]
        }
      ]
    },
    {
      "cell_type": "code",
      "source": [
        "close_match = find_close_match[0]\n",
        "print(close_match)"
      ],
      "metadata": {
        "colab": {
          "base_uri": "https://localhost:8080/"
        },
        "id": "fNCVQkfX4DbR",
        "outputId": "229d9507-36d2-4bb6-f8cd-19eb58427f3a"
      },
      "execution_count": null,
      "outputs": [
        {
          "output_type": "stream",
          "name": "stdout",
          "text": [
            "Spinal Relief\n"
          ]
        }
      ]
    },
    {
      "cell_type": "code",
      "source": [
        "# find the index of the selected benefit\n",
        "# select only the rows where the title matches a variable called close_match (here avengers)\n",
        "index_of_the_pain = data[data.Pain == close_match]['AID'].values[0]\n",
        "print(index_of_the_pain)"
      ],
      "metadata": {
        "colab": {
          "base_uri": "https://localhost:8080/"
        },
        "id": "OnMT0s4X4KgR",
        "outputId": "58d8a4d0-a5e5-47d0-80bf-555b36a4a658"
      },
      "execution_count": null,
      "outputs": [
        {
          "output_type": "stream",
          "name": "stdout",
          "text": [
            "24\n"
          ]
        }
      ]
    },
    {
      "cell_type": "code",
      "source": [
        "# getting a list of similar poses\n",
        "# here i am finding the similairity between selected benefit and all the other benefits\n",
        "similarity_score = list(enumerate(similarity[index_of_the_pain]))\n",
        "print(similarity_score)\n"
      ],
      "metadata": {
        "colab": {
          "base_uri": "https://localhost:8080/"
        },
        "id": "RAJSR3gI47qD",
        "outputId": "3d3cdb6b-5618-444d-a2c9-37dd8433ab7e"
      },
      "execution_count": null,
      "outputs": [
        {
          "output_type": "stream",
          "name": "stdout",
          "text": [
            "[(0, 0.33161692669913406), (1, 0.3247846326047251), (2, 0.3315372557861059), (3, 0.24080317755309905), (4, 0.335657933390201), (5, 0.32383324869264063), (6, 0.39780872964525366), (7, 0.23732153785467683), (8, 0.32529887289825904), (9, 0.3863942134788742), (10, 0.42362423227672785), (11, 0.4220074678177602), (12, 0.36528600594332916), (13, 0.35356323143520757), (14, 0.2799226103180234), (15, 0.33195846286599257), (16, 0.3825678901566361), (17, 0.3367172304038088), (18, 0.20480791237315998), (19, 0.3294568747523985), (20, 0.27548532781868373), (21, 0.3301349986935673), (22, 0.37547011992163887), (23, 0.36020362416278817), (24, 1.0000000000000002), (25, 0.5218606650053653), (26, 0.4582311812753099), (27, 0.39062881423829326), (28, 0.36162831455267924), (29, 0.30345144594892054), (30, 0.3219722715876939), (31, 0.28546091955524205), (32, 0.37800068740920867), (33, 0.25811707242813237), (34, 0.3540200850986637), (35, 0.39151729329656226), (36, 0.39612197979508357), (37, 0.39774557343306244), (38, 0.34972310674194573), (39, 0.33098262640807163), (40, 0.3952255210039102), (41, 0.36717852480795365), (42, 0.4345141517706209), (43, 0.4353320793480991), (44, 0.3443321296051055), (45, 0.4111292126110071), (46, 0.3330463670763333), (47, 0.4029650332253887), (48, 0.3439533172852322), (49, 0.29641664803503126), (50, 0.3757298451072366), (51, 0.3696320466602407), (52, 0.3606976715220011), (53, 0.36702092114570484), (54, 0.313597419613209), (55, 0.36243430414628114), (56, 0.2768524885353667), (57, 0.32646782276301983), (58, 0.34114153805334), (59, 0.36291293416262405), (60, 0.34086579785064786), (61, 0.39070110243207495), (62, 0.4072080423473546), (63, 0.4477979542927047), (64, 0.33101616254757643), (65, 0.36898726598961684), (66, 0.3417152963667505), (67, 0.40865016817521904), (68, 0.4457913281381853), (69, 0.3890964848164977), (70, 0.38523182354554947), (71, 0.44072746932323514), (72, 0.4458597155675866), (73, 0.4351992520385853), (74, 0.38889110820619494), (75, 0.35896238185787827), (76, 0.4023799743653573), (77, 0.41965655086951953), (78, 0.4380972310346304), (79, 0.4236111165547012), (80, 0.39191098900142984), (81, 0.4252288040605131), (82, 0.4235919715428062), (83, 0.4656109820151226), (84, 0.4134431415043953), (85, 0.4023862845106075), (86, 0.47098482678491577), (87, 0.4547447447132895), (88, 0.38456199415563175), (89, 0.42865980683881016), (90, 0.36490300406872755), (91, 0.39097013249040036), (92, 0.412278816294948), (93, 0.4118816920844547), (94, 0.37537036647548505), (95, 0.3666157554472152), (96, 0.42567790296882946), (97, 0.30317809542677077), (98, 0.3229681456824281), (99, 0.3067440296123483), (100, 0.350877074590582), (101, 0.31979868543761253), (102, 0.33722459500234797)]\n"
          ]
        }
      ]
    },
    {
      "cell_type": "code",
      "source": [
        "len(similarity_score)"
      ],
      "metadata": {
        "colab": {
          "base_uri": "https://localhost:8080/"
        },
        "id": "ILzr3uh55LgK",
        "outputId": "a7ba1ec1-5ce0-4b68-e725-22a808062627"
      },
      "execution_count": null,
      "outputs": [
        {
          "output_type": "execute_result",
          "data": {
            "text/plain": [
              "103"
            ]
          },
          "metadata": {},
          "execution_count": 29
        }
      ]
    },
    {
      "cell_type": "code",
      "source": [
        "# sorting the poses based on their similarity score\n",
        "sorted_similar_poses = sorted(similarity_score, key = lambda x:x[1], reverse = True)\n",
        "print(sorted_similar_poses)\n",
        "# x:x[1] means that x is the similarity_score and 1 basically means the similarity value present at index 1 of the list"
      ],
      "metadata": {
        "colab": {
          "base_uri": "https://localhost:8080/"
        },
        "id": "jgL139zm5OvP",
        "outputId": "637a6aa2-eaef-4aba-e62f-714be2b9e431"
      },
      "execution_count": null,
      "outputs": [
        {
          "output_type": "stream",
          "name": "stdout",
          "text": [
            "[(24, 1.0000000000000002), (25, 0.5218606650053653), (86, 0.47098482678491577), (83, 0.4656109820151226), (26, 0.4582311812753099), (87, 0.4547447447132895), (63, 0.4477979542927047), (72, 0.4458597155675866), (68, 0.4457913281381853), (71, 0.44072746932323514), (78, 0.4380972310346304), (43, 0.4353320793480991), (73, 0.4351992520385853), (42, 0.4345141517706209), (89, 0.42865980683881016), (96, 0.42567790296882946), (81, 0.4252288040605131), (10, 0.42362423227672785), (79, 0.4236111165547012), (82, 0.4235919715428062), (11, 0.4220074678177602), (77, 0.41965655086951953), (84, 0.4134431415043953), (92, 0.412278816294948), (93, 0.4118816920844547), (45, 0.4111292126110071), (67, 0.40865016817521904), (62, 0.4072080423473546), (47, 0.4029650332253887), (85, 0.4023862845106075), (76, 0.4023799743653573), (6, 0.39780872964525366), (37, 0.39774557343306244), (36, 0.39612197979508357), (40, 0.3952255210039102), (80, 0.39191098900142984), (35, 0.39151729329656226), (91, 0.39097013249040036), (61, 0.39070110243207495), (27, 0.39062881423829326), (69, 0.3890964848164977), (74, 0.38889110820619494), (9, 0.3863942134788742), (70, 0.38523182354554947), (88, 0.38456199415563175), (16, 0.3825678901566361), (32, 0.37800068740920867), (50, 0.3757298451072366), (22, 0.37547011992163887), (94, 0.37537036647548505), (51, 0.3696320466602407), (65, 0.36898726598961684), (41, 0.36717852480795365), (53, 0.36702092114570484), (95, 0.3666157554472152), (12, 0.36528600594332916), (90, 0.36490300406872755), (59, 0.36291293416262405), (55, 0.36243430414628114), (28, 0.36162831455267924), (52, 0.3606976715220011), (23, 0.36020362416278817), (75, 0.35896238185787827), (34, 0.3540200850986637), (13, 0.35356323143520757), (100, 0.350877074590582), (38, 0.34972310674194573), (44, 0.3443321296051055), (48, 0.3439533172852322), (66, 0.3417152963667505), (58, 0.34114153805334), (60, 0.34086579785064786), (102, 0.33722459500234797), (17, 0.3367172304038088), (4, 0.335657933390201), (46, 0.3330463670763333), (15, 0.33195846286599257), (0, 0.33161692669913406), (2, 0.3315372557861059), (64, 0.33101616254757643), (39, 0.33098262640807163), (21, 0.3301349986935673), (19, 0.3294568747523985), (57, 0.32646782276301983), (8, 0.32529887289825904), (1, 0.3247846326047251), (5, 0.32383324869264063), (98, 0.3229681456824281), (30, 0.3219722715876939), (101, 0.31979868543761253), (54, 0.313597419613209), (99, 0.3067440296123483), (29, 0.30345144594892054), (97, 0.30317809542677077), (49, 0.29641664803503126), (31, 0.28546091955524205), (14, 0.2799226103180234), (56, 0.2768524885353667), (20, 0.27548532781868373), (33, 0.25811707242813237), (3, 0.24080317755309905), (7, 0.23732153785467683), (18, 0.20480791237315998)]\n"
          ]
        }
      ]
    },
    {
      "cell_type": "code",
      "source": [
        "print('Poses suggested for you: \\n')\n",
        "i = 1\n",
        "for poses in sorted_similar_poses:\n",
        "    index = poses[0]\n",
        "    poseName_from_index = data[data.index == index]['AName'].values[0]\n",
        "    Photo_URL = data[data.index == index]['Photo'].values[0]\n",
        "    print(f\"{i}. {poseName_from_index}\")\n",
        "    display(Image(url=Photo_URL))\n",
        "    print('\\n')\n",
        "    i += 1\n",
        "    if i > 6:\n",
        "        break\n"
      ],
      "metadata": {
        "colab": {
          "base_uri": "https://localhost:8080/",
          "height": 1000
        },
        "id": "ftnynrQ45r2C",
        "outputId": "8b9cb1db-e4ac-486d-bf0e-17ba3ebf6aae"
      },
      "execution_count": null,
      "outputs": [
        {
          "output_type": "stream",
          "name": "stdout",
          "text": [
            "Poses suggested for you: \n",
            "\n",
            "1. Sukhasana (easy pose\n"
          ]
        },
        {
          "output_type": "display_data",
          "data": {
            "text/html": [
              "<img src=\"https://cdn.yogajournal.com/wp-content/uploads/2021/11/Easy-Pose-Mod-2_Andrew-Clark_1.jpg?width=730\"/>"
            ],
            "text/plain": [
              "<IPython.core.display.Image object>"
            ]
          },
          "metadata": {}
        },
        {
          "output_type": "stream",
          "name": "stdout",
          "text": [
            "\n",
            "\n",
            "2. Padmasana (lotus pose)\n"
          ]
        },
        {
          "output_type": "display_data",
          "data": {
            "text/html": [
              "<img src=\"https://encrypted-tbn0.gstatic.com/images?q=tbn:ANd9GcSAX3a85hmRCoLqIanWWkCmg4XrU0lajc_3jA&s\"/>"
            ],
            "text/plain": [
              "<IPython.core.display.Image object>"
            ]
          },
          "metadata": {}
        },
        {
          "output_type": "stream",
          "name": "stdout",
          "text": [
            "\n",
            "\n",
            "3. Sirshasana (headstand pose)\n"
          ]
        },
        {
          "output_type": "display_data",
          "data": {
            "text/html": [
              "<img src=\"https://encrypted-tbn0.gstatic.com/images?q=tbn:ANd9GcS3otVVe8u6RDuSju2vKmVHtLpPj98cOj-Rhw&s\"/>"
            ],
            "text/plain": [
              "<IPython.core.display.Image object>"
            ]
          },
          "metadata": {}
        },
        {
          "output_type": "stream",
          "name": "stdout",
          "text": [
            "\n",
            "\n",
            "4. Sarvangasana (shoulder stand pose)\n"
          ]
        },
        {
          "output_type": "display_data",
          "data": {
            "text/html": [
              "<img src=\"https://encrypted-tbn0.gstatic.com/images?q=tbn:ANd9GcTHO6-efLZykJO2G1iFAv-Adek5zynrg0sbUuA41XEl6l3O48kPMUVVW-9uGwMS4UJSZOo&usqp=CAU\"/>"
            ],
            "text/plain": [
              "<IPython.core.display.Image object>"
            ]
          },
          "metadata": {}
        },
        {
          "output_type": "stream",
          "name": "stdout",
          "text": [
            "\n",
            "\n",
            "5. Siddhasana \n"
          ]
        },
        {
          "output_type": "display_data",
          "data": {
            "text/html": [
              "<img src=\"https://encrypted-tbn0.gstatic.com/images?q=tbn:ANd9GcRfjT_63pl7QkuX1GWtyfdNBBdt-krKWiG_vg&s\"/>"
            ],
            "text/plain": [
              "<IPython.core.display.Image object>"
            ]
          },
          "metadata": {}
        },
        {
          "output_type": "stream",
          "name": "stdout",
          "text": [
            "\n",
            "\n",
            "6. Niralamba Sirshasana (unsupported headstand pose)\n"
          ]
        },
        {
          "output_type": "display_data",
          "data": {
            "text/html": [
              "<img src=\"https://encrypted-tbn0.gstatic.com/images?q=tbn:ANd9GcRX3-mtx9KIapQYjsIpidcEr9n7INkEndScrw&s\"/>"
            ],
            "text/plain": [
              "<IPython.core.display.Image object>"
            ]
          },
          "metadata": {}
        },
        {
          "output_type": "stream",
          "name": "stdout",
          "text": [
            "\n",
            "\n"
          ]
        }
      ]
    },
    {
      "cell_type": "code",
      "source": [
        " model_components = {\n",
        "      'vectorizer': vectorizer,\n",
        "      'similarity': similarity,\n",
        "      'data': data  # Optional: Include data for future reference\n",
        "  }"
      ],
      "metadata": {
        "id": "UD-Qj1VDj1zo"
      },
      "execution_count": null,
      "outputs": []
    },
    {
      "cell_type": "code",
      "source": [
        "with open('final_trained_model.pkl', 'wb') as f:\n",
        "    pickle.dump(model_components, f)"
      ],
      "metadata": {
        "id": "zHfOKFvoPPqU"
      },
      "execution_count": null,
      "outputs": []
    },
    {
      "cell_type": "code",
      "source": [],
      "metadata": {
        "id": "4PWHVk5-dk7B"
      },
      "execution_count": null,
      "outputs": []
    }
  ]
}